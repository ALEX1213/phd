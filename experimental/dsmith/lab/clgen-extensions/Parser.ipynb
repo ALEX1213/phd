{
 "cells": [
  {
   "cell_type": "markdown",
   "metadata": {},
   "source": [
    "# Parsing and rewriting OpenCL using pycparser"
   ]
  },
  {
   "cell_type": "code",
   "execution_count": 1,
   "metadata": {
    "collapsed": false
   },
   "outputs": [],
   "source": [
    "from pycparser.plyparser import ParseError\n",
    "from pycparserext.ext_c_parser import OpenCLCParser\n",
    "from pycparserext.ext_c_generator import OpenCLCGenerator"
   ]
  },
  {
   "cell_type": "markdown",
   "metadata": {},
   "source": [
    "**Parse OpenCL AST:**"
   ]
  },
  {
   "cell_type": "code",
   "execution_count": 2,
   "metadata": {
    "collapsed": false
   },
   "outputs": [
    {
     "name": "stdout",
     "output_type": "stream",
     "text": [
      "FileAST: \n",
      "  FuncDef: \n",
      "    Decl: A, [], [], ['__kernel']\n",
      "      FuncDecl: \n",
      "        ParamList: \n",
      "          Decl: a, [], [], []\n",
      "            TypeDecl: a, []\n",
      "              IdentifierType: ['int']\n",
      "          Decl: b, [], [], []\n",
      "            TypeDecl: b, []\n",
      "              IdentifierType: ['int']\n",
      "        TypeDecl: A, []\n",
      "          IdentifierType: ['void']\n",
      "    Compound: \n",
      "      Decl: c, [], [], []\n",
      "        TypeDecl: c, []\n",
      "          IdentifierType: ['float']\n",
      "        BinaryOp: +\n",
      "          ID: a\n",
      "          ID: b\n"
     ]
    }
   ],
   "source": [
    "text = r\"\"\"\n",
    "__kernel void A(int a, int b) {\n",
    "  float c = a + b;\n",
    "}\n",
    "\"\"\"\n",
    "\n",
    "parser = OpenCLCParser()\n",
    "ast = parser.parse(text)\n",
    "ast.show()"
   ]
  },
  {
   "cell_type": "markdown",
   "metadata": {},
   "source": [
    "**Generate code from AST:**"
   ]
  },
  {
   "cell_type": "code",
   "execution_count": 3,
   "metadata": {
    "collapsed": false
   },
   "outputs": [
    {
     "name": "stdout",
     "output_type": "stream",
     "text": [
      "__kernel void A(int a, int b)\n",
      "{\n",
      "  float c = a + b;\n",
      "}\n",
      "\n",
      "\n"
     ]
    }
   ],
   "source": [
    "generator = OpenCLCGenerator()\n",
    "print(generator.visit(ast))"
   ]
  },
  {
   "cell_type": "markdown",
   "metadata": {},
   "source": [
    "**Parsing the GitHub corpus:**"
   ]
  },
  {
   "cell_type": "code",
   "execution_count": 4,
   "metadata": {
    "collapsed": false
   },
   "outputs": [],
   "source": [
    "# from labm8 import fs\n",
    "\n",
    "# files = fs.ls(fs.path(\"~/data/github\"), abspaths=True)\n",
    "# n1 = len(files)\n",
    "# print(\"{n1} GitHub files (preprocessed)\".format(**vars()))\n",
    "\n",
    "# files = fs.ls(fs.path(\"data/github/ast\"), abspaths=True)\n",
    "# n2 = len(files)\n",
    "# ratio = n2 / n1\n",
    "# print(\"{n2} parsed ASTs ({ratio:.2%})\".format(**vars()))"
   ]
  },
  {
   "cell_type": "markdown",
   "metadata": {
    "collapsed": true
   },
   "source": [
    "**Parsing CLgen programs:**"
   ]
  },
  {
   "cell_type": "code",
   "execution_count": 5,
   "metadata": {
    "collapsed": false
   },
   "outputs": [],
   "source": [
    "# files = fs.ls(fs.path(\"~/data/synthetic-2017-02-01\"), abspaths=True)\n",
    "# n1 = len(files)\n",
    "# print(\"{n1} CLgen files (preprocessed)\".format(**vars()))\n",
    "\n",
    "# files = fs.ls(fs.path(\"data/synthetic-2017-02-01/ast\"), abspaths=True)\n",
    "# n2 = len(files)\n",
    "# ratio = n2 / n1\n",
    "# print(\"{n2} parsed ASTs ({ratio:.2%})\".format(**vars()))"
   ]
  },
  {
   "cell_type": "markdown",
   "metadata": {
    "collapsed": true
   },
   "source": [
    "## Pycparser rewriter"
   ]
  },
  {
   "cell_type": "code",
   "execution_count": 9,
   "metadata": {
    "collapsed": false
   },
   "outputs": [
    {
     "name": "stdout",
     "output_type": "stream",
     "text": [
      "uint getIdx(uint blockIdx, uint blockIdy, uint localIdx, uint localIdy, uint blockWidth, uint globalWidth) {\n",
      "  double foo;\n",
      "  double foo2;\n",
      "  double foo3;\n",
      "  uint globalIdx = blockIdx * blockWidth + localIdx;\n",
      "  uint globalIdy = blockIdy * blockWidth + localIdy;\n",
      "\n",
      "  return (globalIdy * globalWidth + globalIdx);\n",
      "}\n",
      "__kernel void DCT(__global float* output, __global float* input, __global float* dct8x8, __global float* dct8x8_trans, __local float* inter, const uint width, const uint blockWidth, const uint inverse)\n",
      "\n",
      "{\n",
      "  uint globalIdx = get_global_id(0);\n",
      "  uint globalIdy = get_global_id(1);\n",
      "\n",
      "  uint groupIdx = get_group_id(0);\n",
      "  uint groupIdy = get_group_id(1);\n",
      "\n",
      "  uint i = get_local_id(0);\n",
      "  uint j = get_local_id(1);\n",
      "\n",
      "  uint idx = globalIdy * width + globalIdx;\n",
      "\n",
      "  float acc = 0.0f;\n",
      "\n",
      "  for (uint k = 0; k < blockWidth; k++) {\n",
      "    uint index1 = j * blockWidth + k;\n",
      "    uint index2 = getIdx(groupIdx, groupIdy, i, k, blockWidth, width);\n",
      "\n",
      "    if (inverse)\n",
      "      acc += dct8x8[index1] * input[index2];\n",
      "    else\n",
      "      acc += dct8x8_trans[index1] * input[index2];\n",
      "  }\n",
      "  inter[j * blockWidth + i] = acc;\n",
      "\n",
      "  barrier(1);\n",
      "\n",
      "  acc = 0.0f;\n",
      "\n",
      "  for (uint k = 0; k < blockWidth; k++) {\n",
      "    uint index1 = j * blockWidth + k;\n",
      "    uint index2 = k * blockWidth + i;\n",
      "\n",
      "    if (inverse)\n",
      "      acc += inter[index1] * dct8x8_trans[index2];\n",
      "    else\n",
      "      acc += inter[index1] * dct8x8[index2];\n",
      "  }\n",
      "  output[idx] = acc;\n",
      "}\n"
     ]
    }
   ],
   "source": [
    "from clgen import preprocess\n",
    "from labm8 import fs\n",
    "\n",
    "# our test input:\n",
    "with open(fs.path(\"~/data/in/amd-app-sdk-3.0-DCT_Kernels.cl\")) as infile:\n",
    "    src = infile.read()\n",
    "\n",
    "src = preprocess.clangformat_ocl(preprocess.compiler_preprocess_cl(src))\n",
    "print(src)"
   ]
  },
  {
   "cell_type": "code",
   "execution_count": 10,
   "metadata": {
    "collapsed": false
   },
   "outputs": [],
   "source": [
    "# with open(fs.path(\"~/Inbox/functions.txt\")) as infile:\n",
    "#     builtin_functions = set(x for x in infile.read().split('\\n') if x)\n",
    "# print(len(builtin_functions))"
   ]
  },
  {
   "cell_type": "code",
   "execution_count": 17,
   "metadata": {
    "collapsed": false
   },
   "outputs": [
    {
     "name": "stdout",
     "output_type": "stream",
     "text": [
      "Rewrites\n",
      "========\n",
      ":1 blockIdx -> A\n",
      ":1 blockIdy -> B\n",
      ":1 localIdx -> C\n",
      ":1 localIdy -> D\n",
      ":1 blockWidth -> E\n",
      ":1 globalWidth -> F\n",
      ":1 getIdx -> G\n",
      ":2 foo -> H\n",
      ":3 foo2 -> I\n",
      ":4 foo3 -> J\n",
      ":5 globalIdx -> K\n",
      ":6 globalIdy -> L\n",
      ":10 output -> M\n",
      ":10 input -> N\n",
      ":10 dct8x8 -> O\n",
      ":10 dct8x8_trans -> P\n",
      ":10 inter -> Q\n",
      ":10 width -> R\n",
      ":10 blockWidth -> E\n",
      ":10 inverse -> S\n",
      ":10 DCT -> T\n",
      ":13 globalIdx -> K\n",
      ":14 globalIdy -> L\n",
      ":16 groupIdx -> U\n",
      ":17 groupIdy -> V\n",
      ":19 i -> W\n",
      ":20 j -> X\n",
      ":22 idx -> Y\n",
      ":24 acc -> Z\n",
      ":26 k -> AA\n",
      ":27 index1 -> AB\n",
      ":28 index2 -> AC\n",
      ":41 k -> AA\n",
      ":42 index1 -> AB\n",
      ":43 index2 -> AC\n",
      "\n",
      "Output\n",
      "======\n",
      "uint G(uint A, uint B, uint C, uint D, uint E, uint F) {\n",
      "  double H;\n",
      "  double I;\n",
      "  double J;\n",
      "  uint K = (A * E) + C;\n",
      "  uint L = (B * E) + D;\n",
      "  return (L * F) + K;\n",
      "}\n",
      "\n",
      "__kernel void T(__global float* M, __global float* N, __global float* O, __global float* P, __local float* Q, const uint R, const uint E, const uint S) {\n",
      "  uint K = get_global_id(0);\n",
      "  uint L = get_global_id(1);\n",
      "  uint U = get_group_id(0);\n",
      "  uint V = get_group_id(1);\n",
      "  uint W = get_local_id(0);\n",
      "  uint X = get_local_id(1);\n",
      "  uint Y = (L * R) + K;\n",
      "  float Z = 0.0f;\n",
      "  for (uint AA = 0; AA < E; AA++) {\n",
      "    uint AB = (X * E) + AA;\n",
      "    uint AC = G(U, V, W, AA, E, R);\n",
      "    if (S)\n",
      "      Z += O[AB] * N[AC];\n",
      "    else\n",
      "      Z += P[AB] * N[AC];\n",
      "  }\n",
      "\n",
      "  Q[(X * E) + W] = Z;\n",
      "  barrier(1);\n",
      "  Z = 0.0f;\n",
      "  for (uint AA = 0; AA < E; AA++) {\n",
      "    uint AB = (X * E) + AA;\n",
      "    uint AC = (AA * E) + W;\n",
      "    if (S)\n",
      "      Z += Q[AB] * P[AC];\n",
      "    else\n",
      "      Z += Q[AB] * O[AC];\n",
      "  }\n",
      "\n",
      "  M[Y] = Z;\n",
      "}\n",
      "\n"
     ]
    }
   ],
   "source": [
    "from pycparser import c_parser, c_ast, parse_file\n",
    "from pycparser.c_ast import FuncDecl, TypeDecl\n",
    "\n",
    "identifier_rewrites = {}\n",
    "\n",
    "def next_rewrite(rewrites):\n",
    "    global _n\n",
    "    i = len(rewrites)\n",
    "    \n",
    "    s = []\n",
    "    while i > 25:\n",
    "        k = i // 26\n",
    "        i = i % 26\n",
    "        # k, i = divmod(i, 26)\n",
    "        s.append(chr(ord('A') - 1 + k))\n",
    "\n",
    "    s.append(chr(ord('A') + i))\n",
    "    return ''.join(s)\n",
    "\n",
    "\n",
    "class OpenCLRewriter(c_ast.NodeVisitor):\n",
    "    def visit_TypeDecl(self, node):\n",
    "        name = node.declname\n",
    "        \n",
    "        if name in identifier_rewrites:\n",
    "            new_name = identifier_rewrites[name]\n",
    "        else:      \n",
    "            new_name = next_rewrite(identifier_rewrites)\n",
    "            identifier_rewrites[node.declname] = new_name\n",
    "            \n",
    "        print(node.coord, node.declname, '->', new_name)\n",
    "        node.declname = new_name\n",
    "    \n",
    "    def visit_ID(self, node):\n",
    "        if node.name in identifier_rewrites:\n",
    "            node.name = identifier_rewrites[node.name]\n",
    "\n",
    "parser = OpenCLCParser()\n",
    "generator = OpenCLCGenerator()\n",
    "            \n",
    "ast = parser.parse(src)\n",
    "v = OpenCLRewriter()\n",
    "print(\"Rewrites\\n========\")\n",
    "v.visit(ast)\n",
    "print(\"\\nOutput\\n======\\n\", preprocess.clangformat_ocl(generator.visit(ast)), sep=\"\")"
   ]
  },
  {
   "cell_type": "code",
   "execution_count": 13,
   "metadata": {
    "collapsed": false
   },
   "outputs": [
    {
     "ename": "FileNotFoundError",
     "evalue": "[Errno 2] No such file or directory: '/home/cec/data/minigh'",
     "output_type": "error",
     "traceback": [
      "\u001b[0;31m---------------------------------------------------------------------------\u001b[0m",
      "\u001b[0;31mFileNotFoundError\u001b[0m                         Traceback (most recent call last)",
      "\u001b[0;32m<ipython-input-13-71729d424ad2>\u001b[0m in \u001b[0;36m<module>\u001b[0;34m()\u001b[0m\n\u001b[1;32m      6\u001b[0m \u001b[0mfs\u001b[0m\u001b[0;34m.\u001b[0m\u001b[0mmkdir\u001b[0m\u001b[0;34m(\u001b[0m\u001b[0moutdir\u001b[0m\u001b[0;34m)\u001b[0m\u001b[0;34m\u001b[0m\u001b[0m\n\u001b[1;32m      7\u001b[0m \u001b[0;34m\u001b[0m\u001b[0m\n\u001b[0;32m----> 8\u001b[0;31m \u001b[0mfiles\u001b[0m \u001b[0;34m=\u001b[0m \u001b[0;34m[\u001b[0m\u001b[0mx\u001b[0m \u001b[0;32mfor\u001b[0m \u001b[0mx\u001b[0m \u001b[0;32min\u001b[0m \u001b[0mfs\u001b[0m\u001b[0;34m.\u001b[0m\u001b[0mls\u001b[0m\u001b[0;34m(\u001b[0m\u001b[0mfs\u001b[0m\u001b[0;34m.\u001b[0m\u001b[0mpath\u001b[0m\u001b[0;34m(\u001b[0m\u001b[0mindir\u001b[0m\u001b[0;34m)\u001b[0m\u001b[0;34m,\u001b[0m \u001b[0mabspaths\u001b[0m\u001b[0;34m=\u001b[0m\u001b[0;32mTrue\u001b[0m\u001b[0;34m)\u001b[0m \u001b[0;32mif\u001b[0m \u001b[0mx\u001b[0m\u001b[0;34m.\u001b[0m\u001b[0mendswith\u001b[0m\u001b[0;34m(\u001b[0m\u001b[0;34m\".cl\"\u001b[0m\u001b[0;34m)\u001b[0m\u001b[0;34m]\u001b[0m\u001b[0;34m\u001b[0m\u001b[0m\n\u001b[0m",
      "\u001b[0;32m/home/cec/clgen/lib/python3.5/site-packages/labm8/fs.py\u001b[0m in \u001b[0;36mls\u001b[0;34m(root, abspaths, recursive)\u001b[0m\n\u001b[1;32m    244\u001b[0m     \u001b[0;32melif\u001b[0m \u001b[0mabspaths\u001b[0m\u001b[0;34m:\u001b[0m\u001b[0;34m\u001b[0m\u001b[0m\n\u001b[1;32m    245\u001b[0m         \u001b[0;31m# Get relative names.\u001b[0m\u001b[0;34m\u001b[0m\u001b[0;34m\u001b[0m\u001b[0m\n\u001b[0;32m--> 246\u001b[0;31m         \u001b[0mrelpaths\u001b[0m \u001b[0;34m=\u001b[0m \u001b[0mls\u001b[0m\u001b[0;34m(\u001b[0m\u001b[0mroot\u001b[0m\u001b[0;34m,\u001b[0m \u001b[0mrecursive\u001b[0m\u001b[0;34m=\u001b[0m\u001b[0mrecursive\u001b[0m\u001b[0;34m,\u001b[0m \u001b[0mabspaths\u001b[0m\u001b[0;34m=\u001b[0m\u001b[0;32mFalse\u001b[0m\u001b[0;34m)\u001b[0m\u001b[0;34m\u001b[0m\u001b[0m\n\u001b[0m\u001b[1;32m    247\u001b[0m         \u001b[0;31m# Prepend the absolute path to each relative name.\u001b[0m\u001b[0;34m\u001b[0m\u001b[0;34m\u001b[0m\u001b[0m\n\u001b[1;32m    248\u001b[0m         \u001b[0mbase\u001b[0m \u001b[0;34m=\u001b[0m \u001b[0mabspath\u001b[0m\u001b[0;34m(\u001b[0m\u001b[0mroot\u001b[0m\u001b[0;34m)\u001b[0m\u001b[0;34m\u001b[0m\u001b[0m\n",
      "\u001b[0;32m/home/cec/clgen/lib/python3.5/site-packages/labm8/fs.py\u001b[0m in \u001b[0;36mls\u001b[0;34m(root, abspaths, recursive)\u001b[0m\n\u001b[1;32m    254\u001b[0m     \u001b[0;32melse\u001b[0m\u001b[0;34m:\u001b[0m\u001b[0;34m\u001b[0m\u001b[0m\n\u001b[1;32m    255\u001b[0m         \u001b[0;31m# List directory contents.\u001b[0m\u001b[0;34m\u001b[0m\u001b[0;34m\u001b[0m\u001b[0m\n\u001b[0;32m--> 256\u001b[0;31m         \u001b[0;32mreturn\u001b[0m \u001b[0mlist\u001b[0m\u001b[0;34m(\u001b[0m\u001b[0msorted\u001b[0m\u001b[0;34m(\u001b[0m\u001b[0mos\u001b[0m\u001b[0;34m.\u001b[0m\u001b[0mlistdir\u001b[0m\u001b[0;34m(\u001b[0m\u001b[0mroot\u001b[0m\u001b[0;34m)\u001b[0m\u001b[0;34m)\u001b[0m\u001b[0;34m)\u001b[0m\u001b[0;34m\u001b[0m\u001b[0m\n\u001b[0m\u001b[1;32m    257\u001b[0m \u001b[0;34m\u001b[0m\u001b[0m\n\u001b[1;32m    258\u001b[0m \u001b[0;34m\u001b[0m\u001b[0m\n",
      "\u001b[0;31mFileNotFoundError\u001b[0m: [Errno 2] No such file or directory: '/home/cec/data/minigh'"
     ]
    }
   ],
   "source": [
    "from labm8 import fs\n",
    "from pycparser.c_parser import ParseError\n",
    "\n",
    "indir = \"~/data/minigh\"\n",
    "outdir = \"~/data/minigh-pp\"\n",
    "fs.mkdir(outdir)\n",
    "\n",
    "files = [x for x in fs.ls(fs.path(indir), abspaths=True) if x.endswith(\".cl\")]"
   ]
  },
  {
   "cell_type": "code",
   "execution_count": 221,
   "metadata": {
    "collapsed": false
   },
   "outputs": [
    {
     "name": "stdout",
     "output_type": "stream",
     "text": [
      "error https-api-github-com-repos-OpenCL-GEGL-OpenCL-old-git-blobs-ce8aa4014f35f94d5a5840a2c0f16c961b644096.cl :30:27: before: ;\n",
      "error https-api-github-com-repos-HSAFoundation-HSA-Debugger-GDB-Source-AMD-git-blobs-55b6e103e5488ff315ca8850a28c76434a9c4909.cl :134:32: before: {\n",
      "error https-api-github-com-repos-PRiME-project-PRiMEStereoMatch-git-blobs-fa57aac0edcb56fb73817e018fc1cbdf215ee604.cl :17:25: before: ]\n",
      "error https-api-github-com-repos-8l-kalmar-git-blobs-597c41017388a0814853c4bfeb9119b5cffa9982.cl :176:17: before: {\n",
      "error https-api-github-com-repos-IntelLabs-iHRC-git-blobs-83a854f2a4f431c5a74af692174540dcd5efbffb.cl :1:20: before: read_only\n",
      "error https-api-github-com-repos-8l-kalmar-git-blobs-71bd40ad5d2203ecabf4c38e5c6ab04b97e0817e.cl :42:1: before: }\n",
      "error https-api-github-com-repos-RadeonOpenCompute-hcc-git-blobs-a3717a0a2e9a8cc572f0545e5c78421e4a97eb6b.cl :42:1: before: }\n",
      "error https-api-github-com-repos-SirGargamel-DICOpenCL-git-blobs-141a84e62062d812608eee505d085daa57b08b2c.cl :9:39: before: g\n",
      "error https-api-github-com-repos-ADonut-LLVM-GPGPU-git-blobs-83a854f2a4f431c5a74af692174540dcd5efbffb.cl :1:20: before: read_only\n",
      "error https-api-github-com-repos-SirGargamel-DICOpenCL-git-blobs-5108df5bd4680dd0bb88584f91eca3fe31882973.cl :9:39: before: g\n",
      "error https-api-github-com-repos-SirGargamel-DICOpenCL-git-blobs-6843fdf77942930f22497556e4376be672aef2cf.cl :9:39: before: g\n",
      "error https-api-github-com-repos-SirGargamel-DICOpenCL-git-blobs-7195689f375bdf91ba4323afc1c072a67936d2fc.cl :15:40: before: i\n",
      "error https-api-github-com-repos-KaranDagar-FSE-2013-RiTHM-git-blobs-a046a595997f0d4d61e5f1521b73c075790732c5.cl :2:1: before: }\n",
      "error https-api-github-com-repos-SirGargamel-DICOpenCL-git-blobs-d0248c03cecc5b1bd5d61915d77cacbcc97c1b9a.cl :9:39: before: f\n",
      "error https-api-github-com-repos-SirGargamel-DICOpenCL-git-blobs-d22b0117542332ae6d8b2025c10af5267c64bb9e.cl :9:39: before: g\n",
      "error https-api-github-com-repos-SirGargamel-DICOpenCL-git-blobs-e6a9abf8a3c6cbc799d55b05b2e4e1a32b964964.cl :15:40: before: i\n",
      "error https-api-github-com-repos-Max-Coin-cgminer-git-blobs-a72180319b974474a7a0f9d1b9a539fc151fb321.cl :13:5: before: ae\n",
      "error https-api-github-com-repos-anirul-OpenCL_PA_2012-git-blobs-381fb6ef7bd31fef610300c6080552bef1166629.cl :8:27: before: f\n",
      "error https-api-github-com-repos-CL2QCD-cl2qcd-git-blobs-e65abce3ed84bcbd0f2edf5db791fc06b970b837.cl :1:41: before: *\n",
      "error https-api-github-com-repos-Tal500-bullet3-git-blobs-7402e2f3b30ad01b0d010e1931bf737782ac6bd2.cl :74:1: before: }\n",
      "error https-api-github-com-repos-Tal500-bullet3-git-blobs-b99a22e6b12bbd4f31a705b7d629077c6a320917.cl :57:3: before: float4\n",
      "error https-api-github-com-repos-Tealeafpei-CLTraerPhysics-git-blobs-79a8ae719fe03d91e87ad803adb5d6429ddc0bb3.cl :30:3: before: }\n",
      "error https-api-github-com-repos-NVIDIA-cuda-gdb-git-blobs-c0831fd7b52f1299de36f2b66aec3b83bb95b478.cl :134:32: before: {\n",
      "error https-api-github-com-repos-ChiahungTai-OpenCL-playgorund-git-blobs-e4b0827b5c4633c5bfe665d3c4c04848595b3127.cl :10:23: before: ;\n",
      "error https-api-github-com-repos-apple-swift-clang-git-blobs-82a8f3614f378bace73b06c6365e0b7dc99f07df.cl :3:20: before: int\n",
      "error https-api-github-com-repos-NebulousLabs-Sia-GPU-Miner-git-blobs-d38b96b055912e0a328d94f1d423727356d43fef.cl :1:24: before: ulong\n",
      "error https-api-github-com-repos-ChrisLundquist-OpenCL-Motion-Estimation-git-blobs-980577454a594c8da6b9d439d8a724f94b5cb95a.cl : At end of input\n",
      "error https-api-github-com-repos-Tydus-cgminer-git-blobs-4b64c300f5d38dba83ce1ddeba8462d88b2c6a23.cl :2:5: before: ad\n",
      "error https-api-github-com-repos-OpenCL-GEGL-OpenCL-git-blobs-de029c69ac9ca940aa8db411d9733c05e3c94f66.cl :11:51: before: d\n",
      "error https-api-github-com-repos-OpenCL-GEGL-OpenCL-git-blobs-e84d172a03729b4336ff9c422ecaa081cf0bfebe.cl :9:122: before: }\n",
      "error https-api-github-com-repos-UoB-HPC-sc15-tutorial-git-blobs-d568e1e25e85105e46c09d7b921fddccc1af67e2.cl :1:44: before: *\n",
      "error https-api-github-com-repos-bgaster-opencl-book-samples-git-blobs-5e29e6b3fdacb54bc3e55811ee3301886d8d084d.cl :19:21: before: )\n",
      "error https-api-github-com-repos-bgaster-opencl-book-samples-git-blobs-64e37b85ddb800e2b1b5aa3f6f9bc9467e29ae2f.cl :6:26: before: f\n",
      "error https-api-github-com-repos-caoyilun-project-git-blobs-21bc798ae620cd6aee05dfbc896c86b468de8bbc.cl :3:30: before: ]\n",
      "error https-api-github-com-repos-caoyilun-project-git-blobs-923df229c6f12bceb257b8e6659addcdc81baa65.cl :3:32: before: ]\n",
      "error https-api-github-com-repos-caoyilun-project-git-blobs-26936e0ceb533f23c7083f07788e4966cd3117e2.cl :89:25: before: vstore4\n",
      "error https-api-github-com-repos-caoyilun-project-git-blobs-9428092a1f830a42d04ca374bd26c500a46b9cb3.cl :5:15: before: 0xFF\n",
      "error https-api-github-com-repos-caoyilun-project-git-blobs-27b059a5351cc0c2c7b1eb5f2226e3025f6117c5.cl :4:54: before: dcx\n",
      "error https-api-github-com-repos-caoyilun-project-git-blobs-a0e24df2959f1304b4ba0567c885926a98d2ba4d.cl :125:52: before: float2\n",
      "error https-api-github-com-repos-clockfort-amd-app-sdk-fixes-git-blobs-8625ad608d47d39ff0f4f70326ca8f2bed9979de.cl :41:4: before: for\n",
      "error https-api-github-com-repos-caoyilun-project-git-blobs-2a43bf6eb05191c48927849d94f76395aab211f9.cl :3:32: before: ]\n",
      "error https-api-github-com-repos-caoyilun-project-git-blobs-a258c9e17aa86b911352c4fc1021996fa4c4588f.cl :3:32: before: ]\n",
      "error https-api-github-com-repos-caoyilun-project-git-blobs-2aa79a21b4a50385f46dca51f7ae1575948424b8.cl :3:30: before: ]\n",
      "error https-api-github-com-repos-caoyilun-project-git-blobs-37ad50d0eeedbd3e1b0c684c432e922c36571fa9.cl :3:32: before: ]\n",
      "error https-api-github-com-repos-caoyilun-project-git-blobs-a96d41b4e004cfcfae12aef22f0ff943d73e32c8.cl :3:32: before: ]\n",
      "error https-api-github-com-repos-bollig-viennacl-git-blobs-0dbe4e15710b10a7f756e83a57497f08ea66cfb4.cl :44:39: before: s\n",
      "error https-api-github-com-repos-caoyilun-project-git-blobs-aa7251a87b41b3f6b22d48773cb5b0058373250d.cl :18:42: before: vec3\n",
      "error https-api-github-com-repos-caoyilun-project-git-blobs-3cba0abfbcd37b264c012b87a73235db47db70e9.cl :3:30: before: ]\n",
      "error https-api-github-com-repos-csrf-cldtcwt-git-blobs-c949552ac58696f6f5114a7e43abc6a0550b6ebe.cl :4:23: before: size_t\n",
      "error https-api-github-com-repos-caoyilun-project-git-blobs-af28285f3a8f46328008a609776cc81dbc8ee331.cl :3:30: before: ]\n",
      "error https-api-github-com-repos-csrf-cldtcwt-git-blobs-f0cf0a349830e4e63e5c13a24fcf45f341161d41.cl :18:51: before: :\n",
      "error https-api-github-com-repos-caoyilun-project-git-blobs-3e07f6bc0c2f3e0a3ca1fce130114975921dae8c.cl :3:30: before: ]\n",
      "error https-api-github-com-repos-cudabigdata-currennt_opencl-git-blobs-0adb31a94c266abff6581fe0ee37cb6be84fcc5b.cl :680:19: before: do\n",
      "error https-api-github-com-repos-caoyilun-project-git-blobs-afb52cc2340522274adcb4c7a9e1351b914a1557.cl :3:30: before: ]\n",
      "error https-api-github-com-repos-caoyilun-project-git-blobs-b115d9b76e9c280ed967e829dc75f46c6d1b36a1.cl :1:27: before: *\n",
      "error https-api-github-com-repos-caoyilun-project-git-blobs-b2dba446e48a1205b65a533b8ccb4198890134c1.cl :3:30: before: ]\n",
      "error https-api-github-com-repos-bollig-viennacl-git-blobs-998cabc2c0f61ae26d90f2e940beb90de69f91b8.cl :23:35: before: k\n",
      "error https-api-github-com-repos-caoyilun-project-git-blobs-50f19849958aecceb5cb2452b382d2b0eb91b555.cl :3:32: before: ]\n",
      "error https-api-github-com-repos-caoyilun-project-git-blobs-51d8eedb5995f9622604f8103abd1b6097c28ee4.cl :3:30: before: ]\n",
      "error https-api-github-com-repos-caoyilun-project-git-blobs-d38bffb318ebf9faec46c1b19d03498bbfe81117.cl :3:30: before: ]\n",
      "error https-api-github-com-repos-caoyilun-project-git-blobs-5440eb581a50ca6ecfdbd05f860b6c8144aeac2b.cl :3:30: before: ]\n",
      "error https-api-github-com-repos-caoyilun-project-git-blobs-d55c6ec8348cc602e28215a5c6cad1e3ba457a2f.cl :3:30: before: ]\n",
      "error https-api-github-com-repos-dbrgn-descrack-git-blobs-e61cdd3624005767947a4e04c59b7e2c6c4a0bb9.cl :168:16: before: do\n",
      "error https-api-github-com-repos-caoyilun-project-git-blobs-d9ec375c93e6bdd728a182543008f88663b00df8.cl :3:30: before: ]\n",
      "error https-api-github-com-repos-caoyilun-project-git-blobs-dba7d6fb3a0d97ac9a9fe3c1af30a13a0fe67ee7.cl :38:49: before: vec3\n",
      "error https-api-github-com-repos-caoyilun-project-git-blobs-e35070edfde12b7388534e64b5da9e6c99f3ff37.cl :3:30: before: ]\n",
      "error https-api-github-com-repos-caoyilun-project-git-blobs-e4b93f297e131047ba55fba30cda92fa721bc372.cl :3:30: before: ]\n",
      "error https-api-github-com-repos-caoyilun-project-git-blobs-6588d31b5a6484801ec455e100179c9fe3ebf9e8.cl :3:32: before: ]\n",
      "error https-api-github-com-repos-ddantas-visiongl-git-blobs-9ff63dcab7cba04bee0e49d7d0e59d0de8b81a88.cl :14:54: before: ;\n",
      "error https-api-github-com-repos-caoyilun-project-git-blobs-ea2ea56c4a4fa7027b41163a35f360e0f6af59ea.cl :3:30: before: ]\n",
      "error https-api-github-com-repos-elhigu-opencl-testsuite-git-blobs-bd1c196b961d2ca03ff2edc3ddadbd0def5adfde.cl :6:33: before: ;\n",
      "error https-api-github-com-repos-caoyilun-project-git-blobs-6714da874500578a865919a5ad54a4862f2af007.cl :3:30: before: ]\n",
      "error https-api-github-com-repos-caoyilun-project-git-blobs-ecfac462cbff6ff341cf3224bddd34e89d61ae29.cl :38:49: before: vec3\n",
      "error https-api-github-com-repos-caoyilun-project-git-blobs-6a12ece4bc3a89a687017700b144d8a773c2b36c.cl :3:32: before: ]\n",
      "error https-api-github-com-repos-enjalot-adventures_in_opencl-git-blobs-8862bd2c21816859e39905337cf286e8bd5fef2e.cl :106:6: before: return\n",
      "error https-api-github-com-repos-dixxi-bachelor_thesis-git-blobs-2a61aa267c07514f0b76cd5ee11fdd4344e78f12.cl :1:27: before: *\n",
      "error https-api-github-com-repos-caoyilun-project-git-blobs-f2ebf795b4085992ca4afdde0729b862e9b3c0fc.cl :3:32: before: ]\n",
      "error https-api-github-com-repos-bulletphysics-bullet3-git-blobs-e72d96876b1005419939ba56d7cb23406c18a336.cl :65:1: before: __inline\n",
      "error https-api-github-com-repos-bulletphysics-bullet3-git-blobs-faa413441c556a1872e1620e780a1f240fe00686.cl :184:27: before: t\n",
      "error https-api-github-com-repos-erwincoumans-bullet3-git-blobs-7f5dabe274d511ede9ae9d38dddf03804a79a0d2.cl :1:38: before: {\n",
      "error https-api-github-com-repos-dixxi-bachelor_thesis-git-blobs-6644e644e1a028fa6a5743100bdb06f00bff1414.cl :1:33: before: *\n",
      "error https-api-github-com-repos-caoyilun-project-git-blobs-fb50e573aec80dacb871e9d315648a633330a50a.cl :3:32: before: ]\n",
      "error https-api-github-com-repos-erwincoumans-experiments-git-blobs-0ab67919d3f6dd9898625f437071f0f9df3f86a3.cl :1:116: before: {\n",
      "error https-api-github-com-repos-dixxi-bachelor_thesis-git-blobs-7e9325dfaf22b68e4b76376cd1d5b7be8083defe.cl :1:33: before: *\n",
      "error https-api-github-com-repos-dixxi-bachelor_thesis-git-blobs-97c23e761597199372de21fd1c07a87ef7e7d2e9.cl :52:30: before: )\n",
      "error https-api-github-com-repos-exeminer-exeminer-git-blobs-60f2870385974024aa9fb0e318fe172a135a6ce9.cl :17:5: before: ab\n",
      "error https-api-github-com-repos-caoyilun-project-git-blobs-7fede58c7826e40db078ae46dd94d163ef6adc92.cl :3:30: before: ]\n",
      "error https-api-github-com-repos-dixxi-bachelor_thesis-git-blobs-b5ee75b3f0408a8cc4cd5af04733b8c5a2f8cf0d.cl :1:33: before: *\n",
      "error https-api-github-com-repos-caoyilun-project-git-blobs-0673b3c9919ab1c19514dc07f8027af8fc91d357.cl :3:30: before: ]\n",
      "error https-api-github-com-repos-exeminer-exeminer-git-blobs-e088f3aa677fda1762861a87bb39bfcd9b8b9341.cl :9:110: before: ;\n",
      "error https-api-github-com-repos-caoyilun-project-git-blobs-83373b47ea0fbb234ca97967a3e5a875c3d34294.cl :3:30: before: ]\n",
      "error https-api-github-com-repos-caoyilun-project-git-blobs-ff1c4ae0eeca4136bd8d9c0ce5dc85033bb8378a.cl :3:30: before: ]\n",
      "error https-api-github-com-repos-caoyilun-project-git-blobs-06794952b3d8c1e90c47f462109136591b49f226.cl :3:30: before: ]\n",
      "error https-api-github-com-repos-caoyilun-project-git-blobs-84007aae16fc44a055d0cbd3ef2e819da3d4b806.cl :3:32: before: ]\n",
      "error https-api-github-com-repos-caoyilun-project-git-blobs-0e490eea93d51de342ba51004f80ed658884815e.cl :3:30: before: ]\n",
      "error https-api-github-com-repos-caoyilun-project-git-blobs-850f6fe12c35bf300605091ccec73fd95bab86c8.cl :3:30: before: ]\n",
      "error https-api-github-com-repos-dixxi-bachelor_thesis-git-blobs-ee49b7fa2d55d485e0d8cb8a299e6d4aa930ac20.cl :1:27: before: *\n",
      "error https-api-github-com-repos-fhunleth-qt-opencl-git-blobs-45f9e98bd27288324e3e25acc02c500bef828df9.cl :7:39: before: .0f\n",
      "error https-api-github-com-repos-caoyilun-project-git-blobs-8cde6544e84a5c016eac11e8c29ae891cfbbbdd5.cl :1:33: before: *\n",
      "error https-api-github-com-repos-clintar-cpuminer-multi-opencl-git-blobs-1b8266ced775ef97f70587ccc0f989cf68ae367b.cl :10:32: before: ]\n",
      "error https-api-github-com-repos-fhunleth-qt-opencl-git-blobs-b3db3cfd19c485ca25bf374606dc94f3f5e463cc.cl :6:32: before: g\n",
      "error https-api-github-com-repos-droghio-Sia-GPU-Miner-git-blobs-d38b96b055912e0a328d94f1d423727356d43fef.cl :1:24: before: ulong\n",
      "error https-api-github-com-repos-caoyilun-project-git-blobs-192b14e1659944a695a9141ef84cf7dd1ab9d3cc.cl :3:32: before: ]\n",
      "error https-api-github-com-repos-clockfort-amd-app-sdk-fixes-git-blobs-387821ad839fca4c44f6a14fa8fe3aeefb1e3b94.cl :1:36: before: __const\n",
      "error https-api-github-com-repos-caoyilun-project-git-blobs-90eae907249c4ba73e4182894c5591c300492bcc.cl :3:32: before: ]\n",
      "error https-api-github-com-repos-clockfort-amd-app-sdk-fixes-git-blobs-4b64176ef26cc9724890e16a1fd924e1b53d3d9e.cl :1:36: before: __const\n",
      "error https-api-github-com-repos-imalerich-RayTracer-OpenCL-git-blobs-d7c57d5c998e3d52b6ba2fdc777b7e97c10b6f40.cl :53:15: before: {\n",
      "error https-api-github-com-repos-freedesktop-unofficial-mirror-beignet-git-blobs-a978792094de2e7fb3426cc2abea60ec6536275f.cl :10:24: before: h\n",
      "error https-api-github-com-repos-karrenberg-wfvopencl-benchmarks-git-blobs-d61985be1c120a102ce3a31d1ab3edf635943128.cl :1:36: before: __const\n",
      "error https-api-github-com-repos-freedesktop-unofficial-mirror-beignet-git-blobs-aec38b190f09abf1007db307af08e062f5bb081d.cl :309:54: before: {\n",
      "error https-api-github-com-repos-freedesktop-unofficial-mirror-beignet-git-blobs-d05a663a32630e862920f7bb54281706cf5985ac.cl :4:22: before: b\n",
      "error https-api-github-com-repos-freedesktop-unofficial-mirror-beignet-git-blobs-26936e0ceb533f23c7083f07788e4966cd3117e2.cl :89:25: before: vstore4\n",
      "error https-api-github-com-repos-kazuki-oclcrypto-git-blobs-7e6fbe47f8ae0e709df83417c4fdb0e36f196376.cl :31:19: before: h\n",
      "error https-api-github-com-repos-freedesktop-unofficial-mirror-beignet-git-blobs-3cdb925a401d8d381faadd75541efc138a47492f.cl :7:27: before: float\n",
      "error https-api-github-com-repos-kazuki-oclcrypto-git-blobs-b0998b3b947659404f442fa6b18ecab1b571ec43.cl :24:26: before: ]\n",
      "error https-api-github-com-repos-jedwards-AMD-hcc-git-blobs-71bd40ad5d2203ecabf4c38e5c6ab04b97e0817e.cl :42:1: before: }\n",
      "error https-api-github-com-repos-lunkhound-bullet3-git-blobs-b99a22e6b12bbd4f31a705b7d629077c6a320917.cl :57:3: before: float4\n",
      "error https-api-github-com-repos-ghostlander-nsgminer-git-blobs-bdf2b3e5c71c62b8628f0455362c0a2c95084637.cl :2:5: before: am\n",
      "error https-api-github-com-repos-gitter-badger-FAST-git-blobs-8099db460fc8017918d9a4781d3c8a204c8807b7.cl :1:30: before: *\n",
      "error https-api-github-com-repos-ksakiyama-mas_gpgpu-git-blobs-717468a5e4f80c19ca3934f41849b02d2a5d20fc.cl :35:36: before: q\n",
      "error https-api-github-com-repos-kumasento-OpenCLLaboratory-git-blobs-fbdba4422365484ab38a7ec70b203782b75dd076.cl :10:29: before: a\n",
      "error https-api-github-com-repos-jrouvier-darkminer-git-blobs-58e3d19727493658182215a09e85bbff6ba269b6.cl :1709:38: before: ;\n",
      "error https-api-github-com-repos-hannesrauhe-ocl_QEE-git-blobs-c789a542a99f5a84c6870f63baac64974d383fe3.cl :84:5: before: }\n",
      "error https-api-github-com-repos-holo-n94-sph-sgminer-git-blobs-fb06f7225945e769a6ebe386638065304a70e62f.cl :1703:38: before: ;\n",
      "error https-api-github-com-repos-marwan-abdellah-GPU-Computing-SDK-4-2-9-git-blobs-9a1e4bb18fe20e06da1b53f593cb8ce0c9a16684.cl :45:7: before: float4\n",
      "error https-api-github-com-repos-hsdk-DeformationGPU-git-blobs-586bb8abbb40fd17762e07f8c7f2451f5326aa15.cl :358:17: before: do\n",
      "error https-api-github-com-repos-hsdk-DeformationGPU-git-blobs-ded4796d337d9328a84024d4f2cdba4394384e10.cl :88:34: before: int\n",
      "error https-api-github-com-repos-k0zmo-mixture-of-gaussian-opencl-git-blobs-050ac4e28e9507ad301527915ca6d891e6854ea3.cl :5:37: before: get_image_height\n",
      "error https-api-github-com-repos-maweigert-gputools-git-blobs-64dc5ed71a5f1c9c81a32d32e505f0cde5ec4ffb.cl :7:41: before: ;\n",
      "error https-api-github-com-repos-k0zmo-qt-opencl-git-blobs-f168e24703419e85a9ae5f823e3e7c82cf51c8f2.cl :12:42: before: get_global_id\n",
      "error https-api-github-com-repos-llvm-mirror-clang-git-blobs-67475d565e3a13ff356f478acd61627c59f4350d.cl :5:14: before: {\n",
      "error https-api-github-com-repos-mc-imperial-gpuverify-git-blobs-5836e2e435b283b2af0c0988c5c4ab7547aba4cd.cl :1:40: before: a\n",
      "error https-api-github-com-repos-llvm-mirror-clang-git-blobs-83a854f2a4f431c5a74af692174540dcd5efbffb.cl :1:20: before: read_only\n",
      "error https-api-github-com-repos-theVall-RainCL-git-blobs-b658f63fc9cb80bb2fee01a28c2ffbd28fa89c88.cl :6:25: before: p\n",
      "error https-api-github-com-repos-mc-imperial-gpuverify-git-blobs-5d5fc7b8b6b04e0b48bc1b53df3636d8c9e1fb3a.cl :1:38: before: a\n",
      "error https-api-github-com-repos-nicehash-sgminer-git-blobs-4a12fbe063dbaf859b80ba1d58a5471d431b8ef1.cl :1716:39: before: ;\n",
      "error https-api-github-com-repos-nicehash-sgminer-git-blobs-a79da83fea8b519d6754e508caadc8e4098142a1.cl :9:18: before: k\n",
      "error https-api-github-com-repos-tomthomson-GameOfLife-git-blobs-a90bf328ffa00ebbdcc1aa13d4e33dbc350bac74.cl :22:29: before: float\n",
      "error https-api-github-com-repos-tony1223yu-GPGPU_MicroBenchmark_Suite-git-blobs-1d37b130d7f1f9821b1ad2f3c284b3bf447f7053.cl :8:39: before: gi\n",
      "error https-api-github-com-repos-openworm-sibernetic-git-blobs-804a0a564106862200247ee28c06104551651172.cl :180:26: before: .0f\n",
      "error https-api-github-com-repos-pAIgn10-GuidedFilter-git-blobs-07620062121d948a70faa11c90c3bcdcf39e7edb.cl :27:24: before: write_imagef\n",
      "error https-api-github-com-repos-ryanbartley-Cinder-OpenCl-git-blobs-31a5768cd17c2797db5efa4da322a2e6727b62e2.cl :10:21: before: b\n",
      "error https-api-github-com-repos-pAIgn10-ICP-git-blobs-df1e0e75b284784598eca983144661bc3dc649b7.cl :148:50: before: ;\n",
      "error https-api-github-com-repos-pavlog-cgminer-git-blobs-7dd73fb91f5cfe6583b1c38fad4528dab1a0b469.cl :2:5: before: am\n",
      "error https-api-github-com-repos-tpruvot-sgminer-git-blobs-162ea60955178dfd28195de97084cc642337d780.cl :1705:39: before: ;\n",
      "error https-api-github-com-repos-tpruvot-sgminer-git-blobs-a79da83fea8b519d6754e508caadc8e4098142a1.cl :9:18: before: k\n",
      "error https-api-github-com-repos-mc-imperial-gpuverify-git-blobs-a4696ea6a3ba300c5df0d34268d41dd6d3c9edce.cl :1:40: before: a\n",
      "error https-api-github-com-repos-sgminer-dev-sgminer-git-blobs-07cea5e724ffabaa8944e2aeb9b0dd2d3676b085.cl :1709:39: before: ;\n",
      "error https-api-github-com-repos-tpruvot-sgminer-git-blobs-f455c1747ebd5e944e822d0c6a882509a26ee8eb.cl :1732:39: before: ;\n",
      "error https-api-github-com-repos-metalicjames-sgminer-Lyra2RE-git-blobs-07cea5e724ffabaa8944e2aeb9b0dd2d3676b085.cl :1709:39: before: ;\n",
      "error https-api-github-com-repos-metalicjames-sgminer-Lyra2RE-git-blobs-a79da83fea8b519d6754e508caadc8e4098142a1.cl :9:18: before: k\n",
      "error https-api-github-com-repos-sgminer-dev-sgminer-git-blobs-162ea60955178dfd28195de97084cc642337d780.cl :1705:39: before: ;\n",
      "error https-api-github-com-repos-sgminer-dev-sgminer-git-blobs-a79da83fea8b519d6754e508caadc8e4098142a1.cl :9:18: before: k\n",
      "error https-api-github-com-repos-victusfate-opencl-book-examples-git-blobs-dd4cef663decd46751d3d5b2e6ec2af4357f71d5.cl :56:9: before: float\n",
      "error https-api-github-com-repos-michaelboulton-vrp-ocl-git-blobs-2ea1110362b1e20977941d320c5c0099cbfa7315.cl :21:47: before: h\n",
      "error https-api-github-com-repos-prettyhatemachine-sph-sgminer-git-blobs-757e8114e3d0f06d72f61874351ec25d2adbd52c.cl :1714:38: before: ;\n",
      "error https-api-github-com-repos-smistad-FAST-git-blobs-748f52bf625c492e9545c6cabbaa746893ad4eb2.cl :11:5: before: int4\n",
      "error https-api-github-com-repos-prettyhatemachine-sph-sgminer-git-blobs-9c3c1b7b5682d020b947b3e746d7f359b0af996f.cl :1711:38: before: ;\n",
      "error https-api-github-com-repos-prettyhatemachine-sph-sgminer-git-blobs-acd805e01b29bb57156ec2b9f2ad00c55ba060a8.cl :1730:38: before: ;\n",
      "error https-api-github-com-repos-tuxfan-ocl-mla-git-blobs-c02198071d5253e926895e0b908e615abd6fc7b1.cl :48:15: before: w\n",
      "error https-api-github-com-repos-mkumar85-FAST-git-blobs-748f52bf625c492e9545c6cabbaa746893ad4eb2.cl :11:5: before: int4\n",
      "error https-api-github-com-repos-vtsynergy-StreamMR-git-blobs-47443cbc49bd12a25321b2a0e559b0e901443be0.cl :879:18: before: do\n",
      "error https-api-github-com-repos-msupernaw-AD4CL-git-blobs-96dd20730009a190771e97ce60fa15584799c8f7.cl :261:61: before: =\n",
      "error https-api-github-com-repos-pshep-cgminer-git-blobs-e11ab195ac7c57e511935342fde1a6f401e2311d.cl :1139:32: before: ;\n",
      "error https-api-github-com-repos-sschaetz-nvidia-opencl-examples-git-blobs-db8c90af0b75eb47dc375e39de2fea15f8a8ca7e.cl :163:30: before: y\n",
      "error https-api-github-com-repos-wiebevr-OpenCL-Benchmark-git-blobs-f2c92fc31ed1920c21c4f90448d3e49407a72e90.cl :31:34: before: float4\n",
      "error https-api-github-com-repos-wolfviking0-webcl-box2d-git-blobs-24eac337ed2e19e6c0d42f2644bb08ac48c89304.cl :1053:106: before: {\n",
      "error https-api-github-com-repos-swederik-FAST-git-blobs-8099db460fc8017918d9a4781d3c8a204c8807b7.cl :1:30: before: *\n",
      "error https-api-github-com-repos-takahiroharada-OCLRadixSort-git-blobs-aed1d11dadc7c8be0e6ed5f1bb7a1a7dc9ca7955.cl :76:1: before: }\n",
      "error https-api-github-com-repos-wolfviking0-webcl-translator-git-blobs-1ec7a35968c6eb1c7e7f9363a7291040bb7ede69.cl :8:2: before: write_imagef\n",
      "error https-api-github-com-repos-vehre-neo-gpuminer-git-blobs-60f2870385974024aa9fb0e318fe172a135a6ce9.cl :17:5: before: ab\n",
      "error https-api-github-com-repos-vehre-neo-gpuminer-git-blobs-6f5fd014f0484f5f0f966467659dc8519df32d46.cl :13:5: before: ad\n",
      "error https-api-github-com-repos-tessbianchi-sibernetic-git-blobs-105d6d250b6b87c7aa851772e12149bbbf2f2a69.cl :180:26: before: .0f\n",
      "error https-api-github-com-repos-veox-sgminer-git-blobs-58e3d19727493658182215a09e85bbff6ba269b6.cl :1709:38: before: ;\n",
      "error https-api-github-com-repos-veox-sgminer-git-blobs-a18b0f6123eb1b0038543bba590fdb569badd564.cl :1705:38: before: ;\n",
      "error https-api-github-com-repos-yyzreal-iHRC-git-blobs-83a854f2a4f431c5a74af692174540dcd5efbffb.cl :1:20: before: read_only\n",
      "error https-api-github-com-repos-zheguang-ispass2009-benchmarks-git-blobs-b9aeba2f6d601dd3d352aaeeabf3ebd13bb43c04.cl :21:31: before: unsigned\n",
      "elapsed: 4.8e+02s\n"
     ]
    }
   ],
   "source": [
    "import time\n",
    "\n",
    "def rewrite(inpath):\n",
    "    name = fs.basename(inpath)\n",
    "    # print(name)\n",
    "    parser = OpenCLCParser()\n",
    "    v = OpenCLRewriter()\n",
    "    generator = OpenCLCGenerator()\n",
    "    outpath = fs.path(outdir, name)\n",
    "\n",
    "    with open(inpath) as infile:\n",
    "        src = infile.read()\n",
    "        src = compiler_preprocess_cl(src)\n",
    "        try:\n",
    "            ast = parser.parse(src)\n",
    "            v.visit(ast)\n",
    "            with open(outpath, \"w\") as outfile:\n",
    "                print(generator.visit(ast), file=outfile)\n",
    "        except ParseError as e:\n",
    "            # print(\"error\", name, e)\n",
    "            pass\n",
    "            \n",
    "start = time.time()\n",
    "\n",
    "from multiprocessing import Pool\n",
    "with Pool(5) as p:\n",
    "    p.map(rewrite, files)\n",
    "end = time.time()\n",
    "\n",
    "print(\"elapsed: {:.2}s\".format(end-start))"
   ]
  },
  {
   "cell_type": "code",
   "execution_count": null,
   "metadata": {
    "collapsed": true
   },
   "outputs": [],
   "source": []
  }
 ],
 "metadata": {
  "kernelspec": {
   "display_name": "CLgen",
   "language": "python",
   "name": "clgen"
  },
  "language_info": {
   "codemirror_mode": {
    "name": "ipython",
    "version": 3
   },
   "file_extension": ".py",
   "mimetype": "text/x-python",
   "name": "python",
   "nbconvert_exporter": "python",
   "pygments_lexer": "ipython3",
   "version": "3.5.2"
  }
 },
 "nbformat": 4,
 "nbformat_minor": 2
}
