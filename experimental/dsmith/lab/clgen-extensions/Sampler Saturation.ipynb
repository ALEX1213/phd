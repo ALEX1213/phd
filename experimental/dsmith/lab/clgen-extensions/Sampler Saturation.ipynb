{
 "cells": [
  {
   "cell_type": "markdown",
   "metadata": {},
   "source": [
    "# Sampler Saturation\n",
    "\n",
    "*RQ: Does the rate of good samples decrease over time?*\n",
    "\n",
    "For a sample to be \"good\", it must be unique. If the rate of good samples decrease over time, that implies a saturation of the sample space."
   ]
  },
  {
   "cell_type": "markdown",
   "metadata": {},
   "source": [
    "## Experimental Setup"
   ]
  },
  {
   "cell_type": "code",
   "execution_count": 1,
   "metadata": {
    "collapsed": false
   },
   "outputs": [
    {
     "name": "stdout",
     "output_type": "stream",
     "text": [
      "CLgen:      0.2.12 (with CUDA)\n",
      "Platform:   Linux\n",
      "Memory:     32057 MB\n",
      "\n",
      "Device:     GPU GeForce GTX 1080\n",
      "Compute #.: 20\n",
      "Frequency:  1733 HZ\n",
      "Memory:     8114 MB\n",
      "Driver:     375.39\n",
      "\n",
      "Device:     GPU GeForce GTX 1080\n",
      "Compute #.: 20\n",
      "Frequency:  1733 HZ\n",
      "Memory:     8114 MB\n",
      "Driver:     375.39\n",
      "\n",
      "Device:     CPU Intel(R) Xeon(R) CPU E5-2620 v4 @ 2.10GHz\n",
      "Compute #.: 16\n",
      "Frequency:  2100 HZ\n",
      "Memory:     32057 MB\n",
      "Driver:     1.2.0.25\n"
     ]
    }
   ],
   "source": [
    "import clgen\n",
    "\n",
    "clgen.platform_info()"
   ]
  },
  {
   "cell_type": "code",
   "execution_count": 3,
   "metadata": {
    "collapsed": false
   },
   "outputs": [
    {
     "ename": "UnableToAcquireLockError",
     "evalue": "Unable to acquire file lock owned by a different process.\nLock acquired by process 185820 on 2017-03-28.\nLock path: /home/cec/.cache/clgen/0.2.12/corpus/fc8a8aea21d03dfad54e95cb77d38649cc5d0b08/LOCK",
     "output_type": "error",
     "traceback": [
      "\u001b[0;31m---------------------------------------------------------------------------\u001b[0m",
      "\u001b[0;31mUnableToAcquireLockError\u001b[0m                  Traceback (most recent call last)",
      "\u001b[0;32m<ipython-input-3-c53035702bad>\u001b[0m in \u001b[0;36m<module>\u001b[0;34m()\u001b[0m\n\u001b[1;32m      3\u001b[0m corpus = Corpus.from_json({\n\u001b[1;32m      4\u001b[0m     \u001b[0;34m\"path\"\u001b[0m\u001b[0;34m:\u001b[0m \u001b[0;34m\"~/data/kernels/github\"\u001b[0m\u001b[0;34m,\u001b[0m\u001b[0;34m\u001b[0m\u001b[0m\n\u001b[0;32m----> 5\u001b[0;31m     \u001b[0;34m\"vocabulary\"\u001b[0m\u001b[0;34m:\u001b[0m \u001b[0;34m\"greedy\"\u001b[0m\u001b[0;34m\u001b[0m\u001b[0m\n\u001b[0m\u001b[1;32m      6\u001b[0m })\n\u001b[1;32m      7\u001b[0m \u001b[0mcorpus\u001b[0m\u001b[0;34m\u001b[0m\u001b[0m\n",
      "\u001b[0;32m/home/cec/clgen/lib/python3.5/site-packages/CLgen-0.2.12-py3.5.egg/clgen/corpus.py\u001b[0m in \u001b[0;36mfrom_json\u001b[0;34m(corpus_json)\u001b[0m\n\u001b[1;32m    531\u001b[0m             \u001b[0;32mraise\u001b[0m \u001b[0mclgen\u001b[0m\u001b[0;34m.\u001b[0m\u001b[0mUserError\u001b[0m\u001b[0;34m(\u001b[0m\u001b[0;34m\"No corpus path or ID provided\"\u001b[0m\u001b[0;34m)\u001b[0m\u001b[0;34m\u001b[0m\u001b[0m\n\u001b[1;32m    532\u001b[0m \u001b[0;34m\u001b[0m\u001b[0m\n\u001b[0;32m--> 533\u001b[0;31m         \u001b[0;32mreturn\u001b[0m \u001b[0mCorpus\u001b[0m\u001b[0;34m(\u001b[0m\u001b[0muid\u001b[0m\u001b[0;34m,\u001b[0m \u001b[0mpath\u001b[0m\u001b[0;34m=\u001b[0m\u001b[0mpath\u001b[0m\u001b[0;34m,\u001b[0m \u001b[0;34m**\u001b[0m\u001b[0mcorpus_json\u001b[0m\u001b[0;34m)\u001b[0m\u001b[0;34m\u001b[0m\u001b[0m\n\u001b[0m\u001b[1;32m    534\u001b[0m \u001b[0;34m\u001b[0m\u001b[0m\n\u001b[1;32m    535\u001b[0m \u001b[0;34m\u001b[0m\u001b[0m\n",
      "\u001b[0;32m/home/cec/clgen/lib/python3.5/site-packages/CLgen-0.2.12-py3.5.egg/clgen/corpus.py\u001b[0m in \u001b[0;36m__init__\u001b[0;34m(self, contentid, path, **opts)\u001b[0m\n\u001b[1;32m    248\u001b[0m             \u001b[0mjsonutil\u001b[0m\u001b[0;34m.\u001b[0m\u001b[0mwrite_file\u001b[0m\u001b[0;34m(\u001b[0m\u001b[0mself\u001b[0m\u001b[0;34m.\u001b[0m\u001b[0mcache\u001b[0m\u001b[0;34m.\u001b[0m\u001b[0mkeypath\u001b[0m\u001b[0;34m(\u001b[0m\u001b[0;34m\"META\"\u001b[0m\u001b[0;34m)\u001b[0m\u001b[0;34m,\u001b[0m \u001b[0mmeta\u001b[0m\u001b[0;34m)\u001b[0m\u001b[0;34m\u001b[0m\u001b[0m\n\u001b[1;32m    249\u001b[0m \u001b[0;34m\u001b[0m\u001b[0m\n\u001b[0;32m--> 250\u001b[0;31m         \u001b[0;32mwith\u001b[0m \u001b[0mself\u001b[0m\u001b[0;34m.\u001b[0m\u001b[0mlock\u001b[0m\u001b[0;34m.\u001b[0m\u001b[0macquire\u001b[0m\u001b[0;34m(\u001b[0m\u001b[0;34m)\u001b[0m\u001b[0;34m:\u001b[0m\u001b[0;34m\u001b[0m\u001b[0m\n\u001b[0m\u001b[1;32m    251\u001b[0m             \u001b[0mself\u001b[0m\u001b[0;34m.\u001b[0m\u001b[0m_create_files\u001b[0m\u001b[0;34m(\u001b[0m\u001b[0mpath\u001b[0m\u001b[0;34m)\u001b[0m\u001b[0;34m\u001b[0m\u001b[0m\n\u001b[1;32m    252\u001b[0m \u001b[0;34m\u001b[0m\u001b[0m\n",
      "\u001b[0;32m/home/cec/clgen/lib/python3.5/site-packages/labm8/lockfile.py\u001b[0m in \u001b[0;36macquire\u001b[0;34m(self, force)\u001b[0m\n\u001b[1;32m    145\u001b[0m             \u001b[0;32mreturn\u001b[0m \u001b[0mself\u001b[0m\u001b[0;34m\u001b[0m\u001b[0m\n\u001b[1;32m    146\u001b[0m         \u001b[0;32melse\u001b[0m\u001b[0;34m:\u001b[0m\u001b[0;34m\u001b[0m\u001b[0m\n\u001b[0;32m--> 147\u001b[0;31m             \u001b[0;32mraise\u001b[0m \u001b[0mUnableToAcquireLockError\u001b[0m\u001b[0;34m(\u001b[0m\u001b[0mself\u001b[0m\u001b[0;34m)\u001b[0m\u001b[0;34m\u001b[0m\u001b[0m\n\u001b[0m\u001b[1;32m    148\u001b[0m \u001b[0;34m\u001b[0m\u001b[0m\n\u001b[1;32m    149\u001b[0m     \u001b[0;32mdef\u001b[0m \u001b[0mrelease\u001b[0m\u001b[0;34m(\u001b[0m\u001b[0mself\u001b[0m\u001b[0;34m,\u001b[0m \u001b[0mforce\u001b[0m\u001b[0;34m=\u001b[0m\u001b[0;32mFalse\u001b[0m\u001b[0;34m)\u001b[0m\u001b[0;34m:\u001b[0m\u001b[0;34m\u001b[0m\u001b[0m\n",
      "\u001b[0;31mUnableToAcquireLockError\u001b[0m: Unable to acquire file lock owned by a different process.\nLock acquired by process 185820 on 2017-03-28.\nLock path: /home/cec/.cache/clgen/0.2.12/corpus/fc8a8aea21d03dfad54e95cb77d38649cc5d0b08/LOCK"
     ]
    }
   ],
   "source": [
    "from clgen.corpus import Corpus\n",
    "\n",
    "corpus = Corpus.from_json({\n",
    "    \"path\": \"~/data/kernels/github\",\n",
    "    \"vocabulary\": \"greedy\"\n",
    "})\n",
    "corpus"
   ]
  },
  {
   "cell_type": "code",
   "execution_count": null,
   "metadata": {
    "collapsed": false
   },
   "outputs": [],
   "source": [
    "from clgen.model import Model\n",
    "\n",
    "model = Model(corpus, **{\n",
    "    \"architecture\": {\n",
    "        \"rnn_size\": 512,\n",
    "        \"num_layers\": 2\n",
    "    },\n",
    "    \"train_opts\": {\n",
    "        \"epochs\": 50\n",
    "    }\n",
    "}).train()\n",
    "model"
   ]
  },
  {
   "cell_type": "code",
   "execution_count": null,
   "metadata": {
    "collapsed": false
   },
   "outputs": [],
   "source": [
    "from clgen.sampler import Sampler\n",
    "\n",
    "sampler = Sampler.from_json({\n",
    "    \"kernels\": {\n",
    "        \"args\": [\n",
    "            \"__global float*\",\n",
    "            \"__global float*\",\n",
    "            \"__global float*\",\n",
    "            \"const int\"\n",
    "        ],\n",
    "        \"max_length\": 10000\n",
    "    },\n",
    "    \"sampler\": {\n",
    "        \"batch_size\": 500,\n",
    "        \"static_checker\": True,\n",
    "        \"dynamic_checker\": False\n",
    "    }\n",
    "})\n",
    "sampler"
   ]
  },
  {
   "cell_type": "markdown",
   "metadata": {},
   "source": [
    "## Experimental Methodology"
   ]
  },
  {
   "cell_type": "code",
   "execution_count": null,
   "metadata": {
    "collapsed": false
   },
   "outputs": [],
   "source": [
    "sampler.cache(model).empty()\n",
    "from labm8 import fs\n",
    "import time\n",
    "\n",
    "datadir = \"data/saturation\"\n",
    "fs.mkdir(datadir)\n",
    "\n",
    "for i in range(100):\n",
    "    print(\"sampler batch\", i)\n",
    "\n",
    "    start = time.time()\n",
    "    sampler.sample_iteration(model, quiet=True)    \n",
    "    elapsed = time.time() - start\n",
    "\n",
    "    src = fs.path(sampler.cache(model).path, \"kernels.db\")\n",
    "    dst = fs.path(datadir, \"iteration-{i}.db\".format(**vars()))\n",
    "    fs.cp(src, dst)\n",
    "    \n",
    "    with open(fs.path(datadir, \"iteration-{i}.txt\".format(**vars())), \"w\") as outfile:\n",
    "        print(elapsed, file=outfile)"
   ]
  },
  {
   "cell_type": "code",
   "execution_count": null,
   "metadata": {
    "collapsed": true
   },
   "outputs": [],
   "source": []
  }
 ],
 "metadata": {
  "kernelspec": {
   "display_name": "CLgen",
   "language": "python",
   "name": "clgen"
  },
  "language_info": {
   "codemirror_mode": {
    "name": "ipython",
    "version": 3
   },
   "file_extension": ".py",
   "mimetype": "text/x-python",
   "name": "python",
   "nbconvert_exporter": "python",
   "pygments_lexer": "ipython3",
   "version": "3.5.2"
  }
 },
 "nbformat": 4,
 "nbformat_minor": 2
}
