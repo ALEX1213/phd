{
 "cells": [
  {
   "cell_type": "markdown",
   "metadata": {},
   "source": [
    "# Adversarial Network Tuning\n",
    "\n",
    "Definitions:\n",
    "* Network parameters: $\\Theta$\n",
    "* CLgen model: $G(\\Theta)$\n",
    "* Discriminator model: $D(G(\\Theta))$\n",
    "\n",
    "From candidate params $\\Theta = \\{\\Theta_1, \\Theta_2, \\ldots, \\Theta_n\\}$,\n",
    "find the params $\\Theta_{i}$ which minimize accuracy of the discriminator.\n",
    "\n",
    "Discriminator functions:\n",
    "* Human-or-robot? Distinguish between programs from GitHub and synthesized codes.\n",
    "* Is it *useful*? Determine closest distance to benchmark features (would have to be a different set of benchmarks).\n",
    "\n",
    "\n",
    "1. $\\epsilon = 0.05$\n",
    "1. $\\Theta = newParams()$\n",
    "1. while $abs(D(G(\\Theta)) - 0.5) > \\epsilon$\n",
    "1. `    ` $\\Theta = newParams()$"
   ]
  },
  {
   "cell_type": "code",
   "execution_count": 1,
   "metadata": {},
   "outputs": [
    {
     "data": {
      "text/plain": [
       "'0.3.4.dev0'"
      ]
     },
     "execution_count": 1,
     "metadata": {},
     "output_type": "execute_result"
    }
   ],
   "source": [
    "import clgen\n",
    "clgen.version()"
   ]
  },
  {
   "cell_type": "markdown",
   "metadata": {},
   "source": [
    "## GitHub Corpus"
   ]
  },
  {
   "cell_type": "code",
   "execution_count": 2,
   "metadata": {},
   "outputs": [
    {
     "data": {
      "text/plain": [
       "corpus[9cfc03e4bea50eb70509fe4f54e9e195751b7fe9]: 5475 files, 28811066 tokens using greedy vocabulary of size 182"
      ]
     },
     "execution_count": 2,
     "metadata": {},
     "output_type": "execute_result"
    }
   ],
   "source": [
    "corpus = clgen.Corpus.from_json({\n",
    "    \"path\": \"~/data/kernels/github\",\n",
    "    \"vocabulary\": \"greedy\",\n",
    "})\n",
    "corpus"
   ]
  },
  {
   "cell_type": "code",
   "execution_count": 3,
   "metadata": {
    "collapsed": true
   },
   "outputs": [],
   "source": [
    "def corpus_iter(kernels_db):\n",
    "    \"\"\" fetch preprocessed source codes \"\"\"\n",
    "    import sqlite3\n",
    "    \n",
    "    db = sqlite3.connect(kernels_db)\n",
    "    c = db.cursor()\n",
    "    c.execute(\"SELECT contents FROM PreprocessedFiles WHERE status=0\")\n",
    "    srcs = [row[0] for row in c.fetchall()]\n",
    "    c.close()\n",
    "    db.close()\n",
    "    return srcs"
   ]
  },
  {
   "cell_type": "code",
   "execution_count": 4,
   "metadata": {},
   "outputs": [
    {
     "name": "stdout",
     "output_type": "stream",
     "text": [
      "cached ../data/adversarial/encoded-9cfc03e4bea50eb70509fe4f54e9e195751b7fe9.pkl\n"
     ]
    }
   ],
   "source": [
    "import pickle\n",
    "from labm8 import fs\n",
    "\n",
    "datadir = '../data/adversarial'\n",
    "fs.mkdir(datadir)\n",
    "\n",
    "github_srcs = corpus_iter(fs.path(corpus.contentcache.path, \"kernels.db\"))\n",
    "\n",
    "inpath = fs.path(datadir, \"encoded-\" + corpus.hash + \".pkl\")\n",
    "if fs.exists(inpath):\n",
    "    with open(inpath, \"rb\") as infile:\n",
    "        github_seqs = pickle.load(infile)\n",
    "else:\n",
    "    github_seqs = [corpus.atomizer.atomize(x) for x in github_srcs]\n",
    "    with open(inpath, \"wb\") as outfile:\n",
    "        pickle.dump(github_seqs, outfile)\n",
    "        print(\"cached\", inpath)"
   ]
  },
  {
   "cell_type": "code",
   "execution_count": 5,
   "metadata": {},
   "outputs": [
    {
     "data": {
      "text/html": [
       "<div>\n",
       "<table border=\"1\" class=\"dataframe\">\n",
       "  <thead>\n",
       "    <tr style=\"text-align: right;\">\n",
       "      <th></th>\n",
       "      <th>Percentile</th>\n",
       "      <th>Sequence Length</th>\n",
       "    </tr>\n",
       "  </thead>\n",
       "  <tbody>\n",
       "    <tr>\n",
       "      <th>0</th>\n",
       "      <td>0</td>\n",
       "      <td>18</td>\n",
       "    </tr>\n",
       "    <tr>\n",
       "      <th>1</th>\n",
       "      <td>10</td>\n",
       "      <td>61</td>\n",
       "    </tr>\n",
       "    <tr>\n",
       "      <th>2</th>\n",
       "      <td>20</td>\n",
       "      <td>91</td>\n",
       "    </tr>\n",
       "    <tr>\n",
       "      <th>3</th>\n",
       "      <td>30</td>\n",
       "      <td>135</td>\n",
       "    </tr>\n",
       "    <tr>\n",
       "      <th>4</th>\n",
       "      <td>40</td>\n",
       "      <td>196</td>\n",
       "    </tr>\n",
       "    <tr>\n",
       "      <th>5</th>\n",
       "      <td>50</td>\n",
       "      <td>306</td>\n",
       "    </tr>\n",
       "    <tr>\n",
       "      <th>6</th>\n",
       "      <td>60</td>\n",
       "      <td>503</td>\n",
       "    </tr>\n",
       "    <tr>\n",
       "      <th>7</th>\n",
       "      <td>70</td>\n",
       "      <td>941</td>\n",
       "    </tr>\n",
       "    <tr>\n",
       "      <th>8</th>\n",
       "      <td>80</td>\n",
       "      <td>1857</td>\n",
       "    </tr>\n",
       "    <tr>\n",
       "      <th>9</th>\n",
       "      <td>90</td>\n",
       "      <td>7073</td>\n",
       "    </tr>\n",
       "    <tr>\n",
       "      <th>10</th>\n",
       "      <td>100</td>\n",
       "      <td>415732</td>\n",
       "    </tr>\n",
       "  </tbody>\n",
       "</table>\n",
       "</div>"
      ],
      "text/plain": [
       "    Percentile  Sequence Length\n",
       "0            0               18\n",
       "1           10               61\n",
       "2           20               91\n",
       "3           30              135\n",
       "4           40              196\n",
       "5           50              306\n",
       "6           60              503\n",
       "7           70              941\n",
       "8           80             1857\n",
       "9           90             7073\n",
       "10         100           415732"
      ]
     },
     "execution_count": 5,
     "metadata": {},
     "output_type": "execute_result"
    }
   ],
   "source": [
    "import numpy as np\n",
    "import pandas as pd\n",
    "\n",
    "lens = np.array([len(x) for x in github_seqs])\n",
    "_data = [{\"Percentile\": x, \"Sequence Length\": int(round(np.percentile(lens, x)))} for x in range(0, 101, 10)]\n",
    "data = pd.DataFrame(_data, columns=[\"Percentile\", \"Sequence Length\"])\n",
    "data"
   ]
  },
  {
   "cell_type": "code",
   "execution_count": 6,
   "metadata": {},
   "outputs": [
    {
     "name": "stderr",
     "output_type": "stream",
     "text": [
      "/home/cec/clgen/lib/python3.6/site-packages/matplotlib/font_manager.py:273: UserWarning: Matplotlib is building the font cache using fc-list. This may take a moment.\n",
      "  warnings.warn('Matplotlib is building the font cache using fc-list. This may take a moment.')\n",
      "/home/cec/clgen/lib/python3.6/site-packages/matplotlib/font_manager.py:273: UserWarning: Matplotlib is building the font cache using fc-list. This may take a moment.\n",
      "  warnings.warn('Matplotlib is building the font cache using fc-list. This may take a moment.')\n"
     ]
    },
    {
     "data": {
      "image/png": "[encoded data removed]",
      "text/plain": [
       "<matplotlib.figure.Figure at 0x7f7f6cdc9908>"
      ]
     },
     "metadata": {},
     "output_type": "display_data"
    }
   ],
   "source": [
    "def isnotebook():\n",
    "    try:\n",
    "        shell = get_ipython().__class__.__name__\n",
    "        if shell == 'ZMQInteractiveShell':  # Jupyter notebook or qtconsole?\n",
    "            return True\n",
    "        elif shell == 'TerminalInteractiveShell':  # Terminal running IPython?\n",
    "            return False\n",
    "        else:\n",
    "            return False  # Other type (?)\n",
    "    except NameError:\n",
    "        return False      # Probably standard Python interpreter\n",
    "\n",
    "if isnotebook():\n",
    "    import matplotlib.pyplot as plt\n",
    "    import seaborn as sns\n",
    "    %matplotlib inline\n",
    "\n",
    "    plt.semilogy(data[\"Percentile\"], data[\"Sequence Length\"])\n",
    "    plt.title(\"GitHub Corpus\")\n",
    "    plt.xlabel(\"Percentile\")\n",
    "    plt.ylabel(\"Sequence Length\")"
   ]
  },
  {
   "cell_type": "markdown",
   "metadata": {},
   "source": [
    "## Synthetic Corpus"
   ]
  },
  {
   "cell_type": "code",
   "execution_count": 8,
   "metadata": {},
   "outputs": [
    {
     "name": "stderr",
     "output_type": "stream",
     "text": [
      "100% (58590 of 58590) |################################################################################| Elapsed Time: 1:43:42 Time: 1:43:42\n"
     ]
    },
    {
     "data": {
      "text/plain": [
       "corpus[5a3fe8ee493092f4d488304c918f7c0a588561a7]: 58396 files, 7008787 tokens using greedy vocabulary of size 168"
      ]
     },
     "execution_count": 8,
     "metadata": {},
     "output_type": "execute_result"
    }
   ],
   "source": [
    "syn_corpus = clgen.Corpus.from_json({\n",
    "    \"path\": \"~/data/kernels/synthetic-2017-02-01\",\n",
    "    \"vocabulary\": \"greedy\",\n",
    "})\n",
    "syn_corpus"
   ]
  },
  {
   "cell_type": "code",
   "execution_count": 9,
   "metadata": {},
   "outputs": [
    {
     "name": "stdout",
     "output_type": "stream",
     "text": [
      "cached ../data/adversarial/encoded-5a3fe8ee493092f4d488304c918f7c0a588561a7.pkl\n"
     ]
    }
   ],
   "source": [
    "syn_srcs = corpus_iter(fs.path(syn_corpus.contentcache.path, \"kernels.db\"))\n",
    "\n",
    "inpath = fs.path(datadir, \"encoded-\" + syn_corpus.hash + \".pkl\")\n",
    "if fs.exists(inpath):\n",
    "    with open(inpath, \"rb\") as infile:\n",
    "        syn_seqs = pickle.load(infile)\n",
    "else:\n",
    "    syn_seqs = [corpus.atomizer.atomize(x) for x in syn_srcs]\n",
    "    with open(inpath, \"wb\") as outfile:\n",
    "        pickle.dump(syn_seqs, outfile)\n",
    "        print(\"cached\", inpath)"
   ]
  },
  {
   "cell_type": "markdown",
   "metadata": {},
   "source": [
    "## Discriminator Model"
   ]
  },
  {
   "cell_type": "markdown",
   "metadata": {},
   "source": [
    "Encoded sequence length:"
   ]
  },
  {
   "cell_type": "code",
   "execution_count": 10,
   "metadata": {},
   "outputs": [
    {
     "name": "stdout",
     "output_type": "stream",
     "text": [
      "A sequence length of 1024 is the 71.9% percentile of the GitHub corpus.\n",
      "28.1% of sequences will be truncated.\n"
     ]
    }
   ],
   "source": [
    "import scipy.stats\n",
    "\n",
    "seq_length = 1024\n",
    "p1 = scipy.stats.percentileofscore(lens, seq_length)\n",
    "p2 = 100 - p1\n",
    "print(\"\"\"\\\n",
    "A sequence length of {seq_length} is the {p1:.1f}% percentile of the GitHub corpus.\n",
    "{p2:.1f}% of sequences will be truncated.\"\"\".format(**vars()))"
   ]
  },
  {
   "cell_type": "code",
   "execution_count": 11,
   "metadata": {
    "collapsed": true
   },
   "outputs": [],
   "source": [
    "seed = 204\n",
    "\n",
    "# inputs\n",
    "vocab_size = corpus.vocab_size + 1  # pad value\n",
    "\n",
    "# network param\n",
    "embedding_vector_length = 64\n",
    "lstm_size = 64\n",
    "\n",
    "# training param\n",
    "test_split = .2\n",
    "validation_split = .2  # note this is the split of the training set\n",
    "nb_epoch = 50\n",
    "batch_size = 128"
   ]
  },
  {
   "cell_type": "markdown",
   "metadata": {},
   "source": [
    "Assemble dataset:"
   ]
  },
  {
   "cell_type": "code",
   "execution_count": 12,
   "metadata": {},
   "outputs": [
    {
     "name": "stderr",
     "output_type": "stream",
     "text": [
      "Using TensorFlow backend.\n"
     ]
    }
   ],
   "source": [
    "# import setGPU\n",
    "from keras.preprocessing.sequence import pad_sequences\n",
    "import random\n",
    "\n",
    "# shuffle sequences before truncating to nmax\n",
    "nmax = min(len(github_seqs), len(syn_seqs))\n",
    "\n",
    "random.seed(seed)\n",
    "random.shuffle(github_seqs)\n",
    "random.shuffle(syn_seqs)\n",
    "\n",
    "# real_x = github_seqs[:nmax]\n",
    "# fake_x = syn_seqs[:nmax]\n",
    "\n",
    "# sanity check:\n",
    "# expected outcome is 50% acc.\n",
    "real_x = github_seqs[:1500]\n",
    "fake_x = github_seqs[:1500]\n",
    "\n",
    "# # sanity check no 1: \n",
    "# real_x = github_seqs[:1500]\n",
    "# fake_x = syn_seqs[1500:3000]"
   ]
  },
  {
   "cell_type": "code",
   "execution_count": null,
   "metadata": {
    "collapsed": true
   },
   "outputs": [],
   "source": [
    "# pad sequences and label '1' for synthetic, '0' for github\n",
    "pad_val = vocab_size - 1\n",
    "\n",
    "X = list(pad_sequences(real_x, maxlen=seq_length, value=pad_val))\n",
    "y = [np.array([1, 0])] * len(real_x)  # 1-hot encoding\n",
    "\n",
    "X += list(pad_sequences(fake_x, maxlen=seq_length, value=pad_val))\n",
    "y += [np.array([0, 1])] * len(fake_x)  # 1-hot encoding\n",
    "\n",
    "dataset = list(zip(X, y))\n",
    "n = len(dataset)\n",
    "\n",
    "X = np.array(X)\n",
    "y = np.array(y)\n",
    "\n",
    "print(\"Dataset of {n} instances ({nmax} of each type).\".format(**vars()))"
   ]
  },
  {
   "cell_type": "markdown",
   "metadata": {},
   "source": [
    "Split into train and test sets:"
   ]
  },
  {
   "cell_type": "code",
   "execution_count": null,
   "metadata": {
    "collapsed": true
   },
   "outputs": [],
   "source": [
    "from sklearn.model_selection import train_test_split\n",
    "\n",
    "X_train, X_test, y_train, y_test = train_test_split(X, y, test_size=0.2, random_state=seed, stratify=y)\n",
    "\n",
    "n_train = len(X_train)\n",
    "n_train_gh = sum(1 if x[0] == 1 else 0 for x in y_train)\n",
    "n_train_syn = sum(1 if x[1] == 1 else 0 for x in y_train)\n",
    "train_syn_ratio = n_train_syn / n_train\n",
    "assert(n_train_gh + n_train_syn == n_train)\n",
    "\n",
    "n_val = int(len(X_train) * validation_split)\n",
    "\n",
    "n_test = len(X_test)\n",
    "n_test_gh = sum(1 if x[0] == 1 else 0 for x in y_test)\n",
    "n_test_syn = sum(1 if x[1] == 1 else 0 for x in y_test)\n",
    "test_syn_ratio = n_test_syn / n_test\n",
    "\n",
    "print(\"\"\"\\\n",
    "{n_train} instances for training ({n_val} of those for validation).\n",
    "{n_test} instances for testing.\n",
    "\n",
    "Ratio of synthetic codes: {train_syn_ratio:.1%} train, {test_syn_ratio:.1%} test.\\\n",
    "\"\"\".format(**vars()))"
   ]
  },
  {
   "cell_type": "markdown",
   "metadata": {},
   "source": [
    "Discriminator architecture:"
   ]
  },
  {
   "cell_type": "code",
   "execution_count": null,
   "metadata": {
    "collapsed": true
   },
   "outputs": [],
   "source": [
    "from keras.layers import Input, Dropout, Embedding, LSTM, Dense\n",
    "from keras.models import Model, load_model\n",
    "from keras.utils.visualize_util import model_to_dot\n",
    "from IPython.display import SVG\n",
    "\n",
    "def create_model():\n",
    "    \"\"\" instantiate model \"\"\"\n",
    "    data_in = Input(shape=(2,), name=\"data_in\")\n",
    "    np.random.seed(seed)\n",
    "    \n",
    "    code_in = Input(shape=(seq_length,), dtype=\"int32\", name=\"code_in\")\n",
    "    x = Embedding(output_dim=embedding_vector_length, input_dim=vocab_size, input_length=seq_length)(code_in)\n",
    "    x = LSTM(lstm_size, input_dim=vocab_size, input_length=seq_length, consume_less=\"mem\", return_sequences=True)(x)\n",
    "    x = LSTM(lstm_size, consume_less=\"mem\")(x)\n",
    "    out = Dense(2, activation=\"sigmoid\", name=\"out\")(x)\n",
    "\n",
    "    model = Model(input=code_in, output=out)\n",
    "    model.compile(optimizer=\"adam\", loss=\"categorical_crossentropy\", metrics=['accuracy'])\n",
    "    return model\n",
    "\n",
    "_m = create_model()\n",
    "_m.summary()\n",
    "SVG(model_to_dot(_m, show_shapes=True).create(prog='dot', format='svg'))"
   ]
  },
  {
   "cell_type": "markdown",
   "metadata": {},
   "source": [
    "Create and train model:"
   ]
  },
  {
   "cell_type": "code",
   "execution_count": null,
   "metadata": {
    "collapsed": true
   },
   "outputs": [],
   "source": [
    "import clgen\n",
    "\n",
    "train_hash = clgen.checksum(X_train.tostring() + bytes(seed))\n",
    "model_path = fs.path(datadir, \"model-{train_hash}.h5\".format(**vars()))\n",
    "\n",
    "if fs.exists(model_path):\n",
    "    model = load_model(model_path)\n",
    "else:\n",
    "    model = create_model()\n",
    "    np.random.seed(seed)\n",
    "    model.fit(X_train, y_train, nb_epoch=nb_epoch, validation_split=validation_split,\n",
    "              batch_size=batch_size, verbose=1, shuffle=True)\n",
    "\n",
    "    model.save(model_path)\n",
    "    print(\"cached\", model_path)"
   ]
  },
  {
   "cell_type": "markdown",
   "metadata": {},
   "source": [
    "Test model:"
   ]
  },
  {
   "cell_type": "code",
   "execution_count": null,
   "metadata": {
    "collapsed": true
   },
   "outputs": [],
   "source": [
    "test_hash = clgen.checksum(X_test.tostring() + bytes(seed))\n",
    "predictions_path = fs.path(datadir, \"predictions-{test_hash}.pkl\".format(**vars()))\n",
    "\n",
    "if fs.exists(predictions_path):\n",
    "    with open(predictions_path, \"rb\") as infile:\n",
    "        predictions = pickle.load(infile)\n",
    "else:\n",
    "    predictions = np.array(model.predict(X_test, batch_size=batch_size, verbose=0))\n",
    "    with open(predictions_path, \"wb\") as outfile:\n",
    "        pickle.dump(predictions, outfile)\n",
    "        print(\"cached\", predictions_path)"
   ]
  },
  {
   "cell_type": "markdown",
   "metadata": {},
   "source": [
    "Evaluate results:"
   ]
  },
  {
   "cell_type": "code",
   "execution_count": null,
   "metadata": {
    "collapsed": true
   },
   "outputs": [],
   "source": [
    "true_syn = sum(1 for x in y_test if x[1] == 1)\n",
    "true_gh = sum(1 for x in y_test if x[0] == 1)\n",
    "assert(true_syn + true_gh == len(y_test))\n",
    "\n",
    "clipped = [(0, 1) if y > x else (1, 0) for x, y in predictions]\n",
    "correct = [1 if x[0] == y[0] and x[1] == y[1] else 0 for (x, y) in zip(clipped, y_test)]\n",
    "n_correct = sum(correct)\n",
    "\n",
    "score = n_correct / n_test\n",
    "print(\"\"\"\\\n",
    "Discriminator correctly classified {n_correct} of {n_test} instances ({score:.1%})\\\n",
    "\"\"\".format(**vars()))"
   ]
  },
  {
   "cell_type": "code",
   "execution_count": null,
   "metadata": {
    "collapsed": true
   },
   "outputs": [],
   "source": [
    "if isnotebook():\n",
    "    data = pd.DataFrame([\n",
    "        {\"source\": \"Truth\", \"Kernel source\": \"Synthetic\", \"Y\": sum(x[1] for x in y_test) / n_test},\n",
    "        {\"source\": \"Truth\", \"Kernel source\": \"Real\", \"Y\": sum(x[0] for x in y_test) / n_test},\n",
    "        {\"source\": \"Discriminator\", \"Kernel source\": \"Synthetic\", \"Y\": sum(x[1] for x in clipped) / n_test},\n",
    "        {\"source\": \"Discriminator\", \"Kernel source\": \"Real\", \"Y\": sum(x[0] for x in clipped) / n_test},\n",
    "    ])\n",
    "    sns.barplot(data=data, x=\"Kernel source\", y=\"Y\", hue=\"source\")\n",
    "    plt.ylabel(\"Ratio of kernels (%)\")\n",
    "    plt.ylim((0, 1))\n",
    "    plt.legend(title=\"\")"
   ]
  },
  {
   "cell_type": "code",
   "execution_count": null,
   "metadata": {
    "collapsed": true
   },
   "outputs": [],
   "source": []
  }
 ],
 "metadata": {
  "kernelspec": {
   "display_name": "CLgen",
   "language": "python",
   "name": "clgen"
  },
  "language_info": {
   "codemirror_mode": {
    "name": "ipython",
    "version": 3
   },
   "file_extension": ".py",
   "mimetype": "text/x-python",
   "name": "python",
   "nbconvert_exporter": "python",
   "pygments_lexer": "ipython3",
   "version": "3.6.1"
  }
 },
 "nbformat": 4,
 "nbformat_minor": 2
}
