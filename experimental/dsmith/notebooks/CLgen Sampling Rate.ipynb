{
 "cells": [
  {
   "cell_type": "markdown",
   "metadata": {},
   "source": [
    "# CLgen Sample Rate\n",
    "\n",
    "Estimate sample rate based on sampling time for all CLgen samplers in the local cache."
   ]
  },
  {
   "cell_type": "code",
   "execution_count": 1,
   "metadata": {},
   "outputs": [
    {
     "name": "stdout",
     "output_type": "stream",
     "text": [
      "518926 samples took 2753486.84s\n",
      "CLgen takes on average 0.19s / sample\n"
     ]
    }
   ],
   "source": [
    "import clgen\n",
    "\n",
    "from labm8 import fs\n",
    "from labm8 import jsonutil\n",
    "\n",
    "sampler_metas = [path for path in fs.ls(fs.path(\"~/.cache/clgen\"), recursive=True, abspaths=True)\n",
    "                 if \"/sampler/\" in path and path.endswith(\"META\")]\n",
    "\n",
    "total_time = 0\n",
    "total_samples = 0\n",
    "\n",
    "for sampler_meta in sampler_metas:\n",
    "    meta = jsonutil.read_file(sampler_meta)\n",
    "    stats = meta.get(\"stats\", {})\n",
    "    time = stats.get(\"time\", 0)\n",
    "    kernels_db = fs.path(fs.dirname(sampler_meta), \"kernels.db\")\n",
    "    if time and fs.isfile(kernels_db):\n",
    "        samples = clgen.dbutil.num_rows_in(kernels_db, \"ContentFiles\")\n",
    "        total_time += time\n",
    "        total_samples += samples\n",
    "        \n",
    "total_time / 60 / 60 / 24\n",
    "print(f\"{total_samples} samples took {total_time:.2f}s\")\n",
    "\n",
    "sample_rate = total_samples / total_time\n",
    "print(f\"CLgen takes on average {sample_rate:.2f}s / sample\")"
   ]
  },
  {
   "cell_type": "code",
   "execution_count": 2,
   "metadata": {},
   "outputs": [
    {
     "data": {
      "text/plain": [
       "'mysql://cc1:3306/project_b'"
      ]
     },
     "execution_count": 2,
     "metadata": {},
     "output_type": "execute_result"
    }
   ],
   "source": [
    "import db as db\n",
    "import sqlalchemy as sql\n",
    "from db import *\n",
    "%run util.py\n",
    "\n",
    "hostname = \"cc1\"\n",
    "db.init(hostname)"
   ]
  },
  {
   "cell_type": "code",
   "execution_count": 23,
   "metadata": {},
   "outputs": [],
   "source": [
    "import numpy as np\n",
    "\n",
    "s = db.make_session()\n",
    "co_runtimes = np.array([x[0] for x in s.query(coCLgenResult.runtime).all()])\n",
    "cl_launcherCLgenResult_runtimes = np.array([x[0] for x in s.query(cl_launcherCLgenResult.runtime).all()])"
   ]
  },
  {
   "cell_type": "code",
   "execution_count": 24,
   "metadata": {},
   "outputs": [
    {
     "data": {
      "text/plain": [
       "0.2716406407427373"
      ]
     },
     "execution_count": 24,
     "metadata": {},
     "output_type": "execute_result"
    }
   ],
   "source": [
    "# co_runtimes.mean()\n",
    "cl_launcherCLgenResult_runtimes.mean()"
   ]
  },
  {
   "cell_type": "code",
   "execution_count": null,
   "metadata": {
    "collapsed": true
   },
   "outputs": [],
   "source": []
  }
 ],
 "metadata": {
  "kernelspec": {
   "display_name": "project_b",
   "language": "python",
   "name": "project_b"
  },
  "language_info": {
   "codemirror_mode": {
    "name": "ipython",
    "version": 3
   },
   "file_extension": ".py",
   "mimetype": "text/x-python",
   "name": "python",
   "nbconvert_exporter": "python",
   "pygments_lexer": "ipython3",
   "version": "3.6.1"
  }
 },
 "nbformat": 4,
 "nbformat_minor": 2
}
