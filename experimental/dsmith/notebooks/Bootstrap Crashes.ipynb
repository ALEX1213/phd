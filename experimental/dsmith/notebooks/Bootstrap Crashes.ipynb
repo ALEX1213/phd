{
 "cells": [
  {
   "cell_type": "markdown",
   "metadata": {},
   "source": [
    "# Generate bug reports for runtime crashes\n",
    "\n",
    "We limit to one runtime crash per testbed and program pair. This is becuase the underlying problem may be parameter-insensitive."
   ]
  },
  {
   "cell_type": "code",
   "execution_count": 1,
   "metadata": {},
   "outputs": [
    {
     "data": {
      "text/plain": [
       "'mysql://cc1:3306/project_b'"
      ]
     },
     "execution_count": 1,
     "metadata": {},
     "output_type": "execute_result"
    }
   ],
   "source": [
    "import db as db\n",
    "import sqlalchemy as sql\n",
    "from db import *\n",
    "%run uti tl.py\n",
    "\n",
    "hostname = \"cc1\"\n",
    "db.init(hostname)"
   ]
  },
  {
   "cell_type": "code",
   "execution_count": 2,
   "metadata": {
    "collapsed": true
   },
   "outputs": [],
   "source": [
    "TABLE_NAME = \"CLSmith w. cl_launcher\"\n",
    "TABLE = cl_launcherCLgenResult"
   ]
  },
  {
   "cell_type": "code",
   "execution_count": 15,
   "metadata": {
    "collapsed": true
   },
   "outputs": [],
   "source": [
    "from collections import defaultdict\n",
    "from labm8 import fs\n",
    "from io import StringIO\n",
    "\n",
    "from reproduce import reproduce\n",
    "\n",
    "fs.mkdir(\"outbox\")\n",
    "with Session(commit=True) as s:\n",
    "    q = s.query(TABLE)\\\n",
    "        .filter(TABLE.classification == \"Runtime crash\",\n",
    "                sql.or_(TABLE.submitted == None, TABLE.submitted == 0),\n",
    "                sql.or_(TABLE.dupe == None, TABLE.dupe == 0))\\\n",
    "        .order_by(TABLE.id)\n",
    "\n",
    "    errs = set()\n",
    "    for result in q:\n",
    "        key = result.testbed_id, result.program_id\n",
    "        if key in errs:\n",
    "            result.dupe = 1\n",
    "            continue\n",
    "        errs.add(key)\n",
    "        \n",
    "        vendor = PLATFORMS_2_VENDORS[result.testbed.platform]\n",
    "        \n",
    "        outpath = fs.path(\"outbox\", f\"bug-report-{vendor}-{result.id}.sh\")\n",
    "\n",
    "        buf = StringIO()\n",
    "        reproduce(**{\n",
    "            \"result_id\": result.id,\n",
    "            \"report\": \"c\",\n",
    "            \"file\": buf\n",
    "        })\n",
    "\n",
    "        with open(outpath, \"w\") as outfile:\n",
    "            print(buf.getvalue(), file=outfile)\n",
    "        result.submitted = 1\n",
    "        print(outpath)\n",
    "print(\"done\")"
   ]
  }
 ],
 "metadata": {
  "kernelspec": {
   "display_name": "project_b",
   "language": "python",
   "name": "project_b"
  },
  "language_info": {
   "codemirror_mode": {
    "name": "ipython",
    "version": 3
   },
   "file_extension": ".py",
   "mimetype": "text/x-python",
   "name": "python",
   "nbconvert_exporter": "python",
   "pygments_lexer": "ipython3",
   "version": "3.6.1"
  }
 },
 "nbformat": 4,
 "nbformat_minor": 2
}
