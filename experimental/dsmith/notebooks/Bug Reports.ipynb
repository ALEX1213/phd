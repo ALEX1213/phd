{
 "cells": [
  {
   "cell_type": "code",
   "execution_count": 5,
   "metadata": {},
   "outputs": [
    {
     "data": {
      "text/plain": [
       "'mysql://cc1:3306/project_b'"
      ]
     },
     "execution_count": 5,
     "metadata": {},
     "output_type": "execute_result"
    }
   ],
   "source": [
    "import sqlalchemy as sql\n",
    "import cldrive\n",
    "import sys\n",
    "from labm8 import crypto\n",
    "\n",
    "import analyze\n",
    "import db\n",
    "from db import *\n",
    "%run util.py\n",
    "\n",
    "hostname = \"cc1\"\n",
    "db.init(hostname)"
   ]
  },
  {
   "cell_type": "code",
   "execution_count": null,
   "metadata": {
    "collapsed": true
   },
   "outputs": [],
   "source": [
    "TIME_LIMIT = 24 * 3600"
   ]
  },
  {
   "cell_type": "markdown",
   "metadata": {},
   "source": [
    "# Bug Report generator"
   ]
  },
  {
   "cell_type": "code",
   "execution_count": null,
   "metadata": {
    "collapsed": true
   },
   "outputs": [],
   "source": [
    "def comment(*msg, prefix=''):\n",
    "    return '\\n'.join(f'// {prefix}{line}' for line in \" \".join(msg).strip().split('\\n'))\n",
    "\n",
    "def get_bug_report(session: session_t, tables: Tableset, result_id: int, report_type: str=\"bf\"):\n",
    "    with Session(commit=False) as s:\n",
    "        result = s.query(tables.results).filter(tables.results.id == result_id).first()\n",
    "\n",
    "        if not result:\n",
    "            raise KeyError(f\"no result with ID {result_id}\")\n",
    "\n",
    "        # generate bug report\n",
    "        now = datetime.datetime.utcnow().isoformat()\n",
    "        report_id = crypto.md5_str(tables.name) + \"-\" + str(result.id)\n",
    "        bug_type = {\n",
    "            \"bf\": \"compilation failure\",\n",
    "            \"bc\": \"compiler crash\",\n",
    "            \"c\": \"runtime crash\",\n",
    "            \"w\": \"wrong-code\"\n",
    "        }[report_type]\n",
    "        \n",
    "        header = f\"\"\"\\\n",
    "// {bug_type} bug report {report_id}.c\n",
    "// \n",
    "// Metadata:\n",
    "//   OpenCL platform:        {result.testbed.platform}\n",
    "//   OpenCL device:          {result.testbed.device}\n",
    "//   Driver version:         {result.testbed.driver}\n",
    "//   OpenCL version:         {result.testbed.opencl}\n",
    "//   Host operating system:  {result.testbed.host}\n",
    "//   OpenCL optimizations:   {result.params.optimizations_on_off}\n",
    "\"\"\"\n",
    "        if report_type == \"bc\":\n",
    "            result_output = comment(result.stderr, prefix='  ')\n",
    "            header += f\"\"\"\\\n",
    "//\n",
    "// Output:\n",
    "{result_output}\n",
    "//   [Return code {result.status}]\n",
    "//\n",
    "\"\"\"    \n",
    "        elif report_type == \"w\":\n",
    "            stderr = comment(result.stderr, prefix='  ')\n",
    "            result_output = comment(result.stdout, prefix='  ')\n",
    "            majority_output = comment(analyze.get_majority_output(session, tables, result), prefix='  ')\n",
    "            assert majority_output != result_output\n",
    "            header += f\"\"\"\\\n",
    "//\n",
    "// Expected output:\n",
    "{majority_output}\n",
    "// Actual output:\n",
    "{result_output}\n",
    "//\n",
    "// stderr:\n",
    "{stderr}\n",
    "//\n",
    "\"\"\"\n",
    "        elif report_type == \"c\":\n",
    "            stdout = comment(result.stderr, prefix='  ')\n",
    "            stderr = comment(result.stderr, prefix='  ')\n",
    "            header += f\"\"\"\\\n",
    "//\n",
    "// stdout:\n",
    "{stdout}\n",
    "//\n",
    "// stderr:\n",
    "{stderr}\n",
    "//   [Return code {result.status}]\n",
    "//\n",
    "\"\"\"\n",
    "            \n",
    "        if isinstance(result.program, CLgenProgram):\n",
    "            src = s.query(CLgenHarness).filter(\n",
    "                CLgenHarness.program_id == result.program.id,\n",
    "                CLgenHarness.params_id == result.params.id).first().src\n",
    "        else:\n",
    "            src = result.program.src\n",
    "        return (header + src).strip()"
   ]
  },
  {
   "cell_type": "markdown",
   "metadata": {},
   "source": [
    "# coCLgenResults"
   ]
  },
  {
   "cell_type": "code",
   "execution_count": null,
   "metadata": {
    "collapsed": true
   },
   "outputs": [],
   "source": [
    "TABLE_NAME = \"CLgen\"\n",
    "TABLE = coCLgenResult"
   ]
  },
  {
   "cell_type": "code",
   "execution_count": null,
   "metadata": {},
   "outputs": [],
   "source": [
    "from collections import defaultdict\n",
    "from labm8 import fs\n",
    "\n",
    "outbox = fs.path(\"outbox\", \"coCLgenResults\", \"segfaults\")\n",
    "fs.mkdir(outbox)\n",
    "with Session(commit=True) as s:\n",
    "    q = s.query(TABLE)\\\n",
    "        .filter(TABLE.status == 139,\n",
    "                sql.or_(TABLE.submitted == None, TABLE.submitted == 0),\n",
    "                sql.or_(TABLE.dupe == None, TABLE.dupe == 0))\\\n",
    "        .order_by(TABLE.id)\n",
    "\n",
    "    dupes = 0\n",
    "    errs = set()\n",
    "    for result in q:\n",
    "        key = result.testbed_id, result.program_id\n",
    "\n",
    "        if key in errs:\n",
    "            dupes += 1\n",
    "            result.dupe = 1\n",
    "            continue\n",
    "        errs.add(key)\n",
    "\n",
    "        vendor = PLATFORMS_2_VENDORS[result.testbed.platform]\n",
    "        outpath = fs.path(outbox, f\"bug-report-{vendor}-{result.id}.c\")            \n",
    "\n",
    "        report = get_bug_report(**{\n",
    "            \"session\": s,\n",
    "            \"tables\": { \"results\": coCLgenResult },\n",
    "            \"result_id\": result.id,\n",
    "            \"report_type\": \"bf\",\n",
    "        })\n",
    "\n",
    "        with open(outpath, \"w\") as outfile:\n",
    "            print(report, file=outfile)\n",
    "        result.submitted = 1\n",
    "        print(outpath)\n",
    "print(\"done\")\n",
    "print(f\"{dupes} duplicates flagged\")"
   ]
  },
  {
   "cell_type": "markdown",
   "metadata": {},
   "source": [
    "# Build-crash bugs"
   ]
  },
  {
   "cell_type": "code",
   "execution_count": 6,
   "metadata": {
    "collapsed": true
   },
   "outputs": [],
   "source": [
    "tables = CLGEN_TABLES"
   ]
  },
  {
   "cell_type": "code",
   "execution_count": 9,
   "metadata": {},
   "outputs": [
    {
     "ename": "NameError",
     "evalue": "name 'get_bug_report' is not defined",
     "output_type": "error",
     "traceback": [
      "\u001b[0;31m---------------------------------------------------------------------------\u001b[0m",
      "\u001b[0;31mNameError\u001b[0m                                 Traceback (most recent call last)",
      "\u001b[0;32m<ipython-input-9-a2f01e6fe20b>\u001b[0m in \u001b[0;36m<module>\u001b[0;34m()\u001b[0m\n\u001b[1;32m     21\u001b[0m         \u001b[0moutpath\u001b[0m \u001b[0;34m=\u001b[0m \u001b[0mfs\u001b[0m\u001b[0;34m.\u001b[0m\u001b[0mpath\u001b[0m\u001b[0;34m(\u001b[0m\u001b[0moutbox\u001b[0m\u001b[0;34m,\u001b[0m \u001b[0;34mf\"bug-report-{vendor}-{result.id}.c\"\u001b[0m\u001b[0;34m)\u001b[0m\u001b[0;34m\u001b[0m\u001b[0m\n\u001b[1;32m     22\u001b[0m \u001b[0;34m\u001b[0m\u001b[0m\n\u001b[0;32m---> 23\u001b[0;31m         report = get_bug_report(**{\n\u001b[0m\u001b[1;32m     24\u001b[0m             \u001b[0;34m\"session\"\u001b[0m\u001b[0;34m:\u001b[0m \u001b[0ms\u001b[0m\u001b[0;34m,\u001b[0m\u001b[0;34m\u001b[0m\u001b[0m\n\u001b[1;32m     25\u001b[0m             \u001b[0;34m\"tables\"\u001b[0m\u001b[0;34m:\u001b[0m \u001b[0mtables\u001b[0m\u001b[0;34m,\u001b[0m\u001b[0;34m\u001b[0m\u001b[0m\n",
      "\u001b[0;31mNameError\u001b[0m: name 'get_bug_report' is not defined"
     ]
    }
   ],
   "source": [
    "outbox = fs.path(\"outbox\", tables.name, \"bc\")\n",
    "fs.mkdir(outbox)\n",
    "with Session(commit=False) as s:\n",
    "    q = s.query(tables.results)\\\n",
    "        .filter(tables.results.outcome == \"bc\",\n",
    "                sql.or_(tables.results.submitted == None, tables.results.submitted == 0),\n",
    "                sql.or_(tables.results.dupe == None, tables.results.dupe == 0))\\\n",
    "        .order_by(tables.results.id)\n",
    "\n",
    "    dupes = 0\n",
    "    errs = set()\n",
    "    for result in q:\n",
    "        key = result.testbed_id, result.program_id\n",
    "\n",
    "        if key in errs:\n",
    "            dupes += 1\n",
    "            result.dupe = 1\n",
    "            continue\n",
    "        errs.add(key)\n",
    "\n",
    "        vendor = PLATFORMS_2_VENDORS[result.testbed.platform]\n",
    "        outpath = fs.path(outbox, f\"bug-report-{vendor}-{result.id}.c\")            \n",
    "\n",
    "        report = get_bug_report(**{\n",
    "            \"session\": s,\n",
    "            \"tables\": tables,\n",
    "            \"result_id\": result.id,\n",
    "            \"report_type\": \"bc\",\n",
    "        })\n",
    "\n",
    "        with open(outpath, \"w\") as outfile:\n",
    "            print(report, file=outfile)\n",
    "        result.submitted = 1\n",
    "        print(outpath)\n",
    "print(\"done\")\n",
    "print(f\"{dupes} duplicates flagged\")"
   ]
  },
  {
   "cell_type": "markdown",
   "metadata": {},
   "source": [
    "# Runtime crashes"
   ]
  },
  {
   "cell_type": "code",
   "execution_count": 2,
   "metadata": {
    "collapsed": true
   },
   "outputs": [],
   "source": [
    "tables = CLSMITH_TABLES"
   ]
  },
  {
   "cell_type": "code",
   "execution_count": 3,
   "metadata": {},
   "outputs": [
    {
     "ename": "NameError",
     "evalue": "name 'TIME_LIMIT' is not defined",
     "output_type": "error",
     "traceback": [
      "\u001b[0;31m---------------------------------------------------------------------------\u001b[0m",
      "\u001b[0;31mNameError\u001b[0m                                 Traceback (most recent call last)",
      "\u001b[0;32m<ipython-input-3-71e13845b34b>\u001b[0m in \u001b[0;36m<module>\u001b[0;34m()\u001b[0m\n\u001b[1;32m      3\u001b[0m \u001b[0;32mwith\u001b[0m \u001b[0mSession\u001b[0m\u001b[0;34m(\u001b[0m\u001b[0mcommit\u001b[0m\u001b[0;34m=\u001b[0m\u001b[0;32mFalse\u001b[0m\u001b[0;34m)\u001b[0m \u001b[0;32mas\u001b[0m \u001b[0ms\u001b[0m\u001b[0;34m:\u001b[0m\u001b[0;34m\u001b[0m\u001b[0m\n\u001b[1;32m      4\u001b[0m     q = s.query(tables.results)        .join(tables.meta)        .filter(tables.results.classification == \"c\",\n\u001b[0;32m----> 5\u001b[0;31m                 tables.meta.cumtime < TIME_LIMIT)\\\n\u001b[0m\u001b[1;32m      6\u001b[0m         \u001b[0;34m.\u001b[0m\u001b[0morder_by\u001b[0m\u001b[0;34m(\u001b[0m\u001b[0mtables\u001b[0m\u001b[0;34m.\u001b[0m\u001b[0mresults\u001b[0m\u001b[0;34m.\u001b[0m\u001b[0mid\u001b[0m\u001b[0;34m)\u001b[0m\u001b[0;34m\u001b[0m\u001b[0m\n\u001b[1;32m      7\u001b[0m \u001b[0;34m\u001b[0m\u001b[0m\n",
      "\u001b[0;31mNameError\u001b[0m: name 'TIME_LIMIT' is not defined"
     ]
    }
   ],
   "source": [
    "outbox = fs.path(\"outbox\", tables.name, \"c\")\n",
    "fs.mkdir(outbox)\n",
    "with Session(commit=False) as s:\n",
    "    q = s.query(tables.results)\\\n",
    "        .join(tables.meta)\\\n",
    "        .filter(tables.results.classification == \"c\",\n",
    "                tables.meta.cumtime < TIME_LIMIT)\\\n",
    "        .order_by(tables.results.id)\n",
    "\n",
    "    dupes = 0\n",
    "    errs = set()\n",
    "    for result in q:\n",
    "        key = result.testbed_id, result.program_id\n",
    "\n",
    "        if key in errs:\n",
    "            dupes += 1\n",
    "            result.dupe = 1\n",
    "            continue\n",
    "        errs.add(key)\n",
    "\n",
    "        vendor = vendor_str(result.testbed.platform)\n",
    "        outpath = fs.path(outbox, f\"bug-report-{vendor}-{result.id}.c\")\n",
    "        \n",
    "        report = get_bug_report(**{\n",
    "            \"session\": s,\n",
    "            \"tables\": tables,\n",
    "            \"result_id\": result.id,\n",
    "            \"report_type\": \"c\",\n",
    "        })\n",
    "\n",
    "        with open(outpath, \"w\") as outfile:\n",
    "            print(report, file=outfile)\n",
    "        result.submitted = 1\n",
    "        print(outpath)\n",
    "print(\"done\")\n",
    "print(f\"{dupes} duplicates flagged\")"
   ]
  },
  {
   "cell_type": "markdown",
   "metadata": {},
   "source": [
    "# Wrong-code bug repots"
   ]
  },
  {
   "cell_type": "code",
   "execution_count": null,
   "metadata": {
    "collapsed": true
   },
   "outputs": [],
   "source": [
    "tables = CLGEN_TABLES"
   ]
  },
  {
   "cell_type": "code",
   "execution_count": null,
   "metadata": {},
   "outputs": [],
   "source": [
    "outbox = fs.path(\"outbox\", tables.name, \"w\")\n",
    "fs.mkdir(outbox)\n",
    "with Session(commit=False) as s:\n",
    "    q = s.query(tables.results)\\\n",
    "        .join(tables.meta)\\\n",
    "        .filter(tables.results.classification == \"w\",\n",
    "                tables.meta.cumtime < TIME_LIMIT)\\\n",
    "        .order_by(tables.results.id)\n",
    "\n",
    "    dupes = 0\n",
    "    errs = set()\n",
    "    for result in q:\n",
    "        # FIXME: temp hacks until re-analyzed\n",
    "        if tables.name == \"CLgen\":\n",
    "            if not result.program.gpuverified:\n",
    "                continue\n",
    "            if \"float\" in result.program.src:\n",
    "                continue\n",
    "            if \"warning\" in result.stderr:\n",
    "                continue\n",
    "        \n",
    "        key = result.testbed_id, result.program_id\n",
    "\n",
    "        if key in errs:\n",
    "            dupes += 1\n",
    "            result.dupe = 1\n",
    "            continue\n",
    "        errs.add(key)\n",
    "\n",
    "        vendor = vendor_str(result.testbed.platform)\n",
    "        outpath = fs.path(outbox, f\"bug-report-{vendor}-{result.id}.c\")\n",
    "        \n",
    "        report = get_bug_report(**{\n",
    "            \"session\": s,\n",
    "            \"tables\": tables,\n",
    "            \"result_id\": result.id,\n",
    "            \"report_type\": \"w\",\n",
    "        })\n",
    "\n",
    "        with open(outpath, \"w\") as outfile:\n",
    "            print(report, file=outfile)\n",
    "        result.submitted = 1\n",
    "        print(outpath)\n",
    "print(\"done\")\n",
    "print(f\"{dupes} duplicates flagged\")"
   ]
  },
  {
   "cell_type": "code",
   "execution_count": null,
   "metadata": {
    "collapsed": true
   },
   "outputs": [],
   "source": []
  }
 ],
 "metadata": {
  "kernelspec": {
   "display_name": "project_b",
   "language": "python",
   "name": "project_b"
  },
  "language_info": {
   "codemirror_mode": {
    "name": "ipython",
    "version": 3
   },
   "file_extension": ".py",
   "mimetype": "text/x-python",
   "name": "python",
   "nbconvert_exporter": "python",
   "pygments_lexer": "ipython3",
   "version": "3.6.1"
  }
 },
 "nbformat": 4,
 "nbformat_minor": 2
}
