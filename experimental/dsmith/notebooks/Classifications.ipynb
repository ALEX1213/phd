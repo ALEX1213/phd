{
 "cells": [
  {
   "cell_type": "code",
   "execution_count": 1,
   "metadata": {},
   "outputs": [
    {
     "data": {
      "text/plain": [
       "'mysql://cc1:3306/project_b'"
      ]
     },
     "execution_count": 1,
     "metadata": {},
     "output_type": "execute_result"
    }
   ],
   "source": [
    "import pandas as pd\n",
    "from collections import OrderedDict\n",
    "from labm8 import fs\n",
    "\n",
    "import analyze\n",
    "import db\n",
    "from db import *\n",
    "%run util.py\n",
    "\n",
    "hostname = \"cc1\"\n",
    "db.init(hostname)"
   ]
  },
  {
   "cell_type": "code",
   "execution_count": 8,
   "metadata": {
    "collapsed": true
   },
   "outputs": [],
   "source": [
    "def comment(*msg, prefix=''):\n",
    "    return '\\n'.join(f'// {prefix}{line}' for line in \" \".join(msg).strip().split('\\n'))"
   ]
  },
  {
   "cell_type": "markdown",
   "metadata": {},
   "source": [
    "# Build failures"
   ]
  },
  {
   "cell_type": "code",
   "execution_count": null,
   "metadata": {},
   "outputs": [],
   "source": [
    "datadir = \"outbox/CLSmithResults/bf\"\n",
    "fs.mkdir(datadir)\n",
    "\n",
    "with Session(commit=False) as s:\n",
    "    q = s.query(CLSmithResult).filter(CLSmithResult.classification == \"bf\")\n",
    "    for result in q:\n",
    "        vendor = vendor_str(result.testbed.platform)\n",
    "        reportpath = f\"{datadir}/kernel-{vendor}-{result.id}.cl\"\n",
    "        print(reportpath)\n",
    "        with open(reportpath, \"w\") as outfile:\n",
    "            print(comment(\"stderr:\"), file=outfile)\n",
    "            print(comment(result.stderr, prefix='  '), file=outfile)\n",
    "            print(result.program.src, file=outfile)"
   ]
  },
  {
   "cell_type": "markdown",
   "metadata": {
    "collapsed": true
   },
   "source": [
    "# Wrong-code bugs"
   ]
  },
  {
   "cell_type": "code",
   "execution_count": 11,
   "metadata": {},
   "outputs": [
    {
     "name": "stdout",
     "output_type": "stream",
     "text": [
      "outbox/CLSmithResults/w/kernel-nvidia-4321.cl\n"
     ]
    }
   ],
   "source": [
    "datadir = \"outbox/CLSmithResults/w\"\n",
    "fs.mkdir(datadir)\n",
    "\n",
    "\n",
    "with Session(commit=False) as s:\n",
    "    q = s.query(CLSmithResult).filter(CLSmithResult.classification == \"w\")\n",
    "    for result in q:\n",
    "        vendor = vendor_str(result.testbed.platform)\n",
    "        reportpath = f\"{datadir}/kernel-{vendor}-{result.id}.cl\"\n",
    "        \n",
    "        # get expected output\n",
    "        majority_output = analyze.get_majority_output(s, CLSMITH_TABLES, result)\n",
    "        assert result.stdout != majority_output  # sanity check\n",
    "\n",
    "        # use reduced src if possible\n",
    "        reduction = s.query(CLSmithReduction).filter(CLSmithReduction.id == result.id).first()\n",
    "        src = result.program.src\n",
    "        # src = reduction.src if reduction else result.program.src\n",
    "\n",
    "        print(reportpath)\n",
    "        with open(reportpath, \"w\") as outfile:\n",
    "            print(comment(\"Test case minimized?\", \"yes\" if reduction else \"no\"), file=outfile)\n",
    "            print(comment(''), file=outfile)\n",
    "            print(comment(\"stderr:\"), file=outfile)\n",
    "            print(comment(result.stderr, prefix='  '), file=outfile)\n",
    "            print(comment(\"output:\"), file=outfile)\n",
    "            print(comment(result.stdout, prefix='  '), file=outfile)\n",
    "            print(comment(\"expected output:\"), file=outfile)\n",
    "            print(comment(majority_output, prefix='  '), file=outfile)\n",
    "            print(src, file=outfile)\n",
    "        break"
   ]
  },
  {
   "cell_type": "code",
   "execution_count": null,
   "metadata": {
    "collapsed": true
   },
   "outputs": [],
   "source": []
  }
 ],
 "metadata": {
  "kernelspec": {
   "display_name": "project_b",
   "language": "python",
   "name": "project_b"
  },
  "language_info": {
   "codemirror_mode": {
    "name": "ipython",
    "version": 3
   },
   "file_extension": ".py",
   "mimetype": "text/x-python",
   "name": "python",
   "nbconvert_exporter": "python",
   "pygments_lexer": "ipython3",
   "version": "3.6.1"
  }
 },
 "nbformat": 4,
 "nbformat_minor": 2
}
